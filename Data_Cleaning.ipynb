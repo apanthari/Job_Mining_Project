{
 "cells": [
  {
   "cell_type": "markdown",
   "id": "172c0f52-3b02-4532-bf6b-3ffa6a403ae2",
   "metadata": {},
   "source": [
    "#### Combine All days together "
   ]
  },
  {
   "cell_type": "code",
   "execution_count": 50,
   "id": "4d482a34-5957-43ac-9c1b-95c3f71e1877",
   "metadata": {},
   "outputs": [],
   "source": [
    "import pandas as pd"
   ]
  },
  {
   "cell_type": "markdown",
   "id": "820dd22e-f971-4f7e-a7be-a593f5c9a72d",
   "metadata": {},
   "source": [
    "##### SF"
   ]
  },
  {
   "cell_type": "code",
   "execution_count": 51,
   "id": "4da6944d-c183-40c1-a3c2-9b3abe477a2b",
   "metadata": {},
   "outputs": [],
   "source": [
    "#read in all SF files\n",
    "sf_2 = pd.read_csv('11_2_pull/SF_Jobs.csv') #960\n",
    "sf_4 = pd.read_csv('Data_until11_4/USA_Jobs.csv') #1544\n",
    "sf_5 = pd.read_csv('11_5/USA_Jobs.csv') #952\n",
    "sf_6 = pd.read_csv('11_6/USA_Jobs.csv') #987\n",
    "sf_7 = pd.read_csv('11_7/USA_Jobs.csv') #961\n",
    "sf_8 = pd.read_csv('11_8/USA_Jobs.csv') #969\n",
    "sf_9 = pd.read_csv('11_9/USA_Jobs.csv') #972\n",
    "sf_10 = pd.read_csv('11_10/USA_Jobs.csv') #976\n",
    "sf_11_12 = pd.read_csv('11_11_12/USA_Jobs.csv') #976\n",
    "sf_13 = pd.read_csv('11_13/USA_Jobs.csv') #976\n",
    "sf_14 = pd.read_csv('11_14/USA_Jobs.csv') #976\n",
    "sf_15 = pd.read_csv('11_15/USA_Jobs.csv') #976"
   ]
  },
  {
   "cell_type": "code",
   "execution_count": 52,
   "id": "54731742-b5af-429f-a0cd-fcd00fbf6f04",
   "metadata": {
    "scrolled": true
   },
   "outputs": [],
   "source": [
    "#stack df\n",
    "sf = pd.concat([sf_2, sf_4, sf_5, sf_6, sf_7, sf_8, sf_9, sf_10, sf_11_12, sf_13, sf_14, sf_15], axis=0)"
   ]
  },
  {
   "cell_type": "code",
   "execution_count": 61,
   "id": "90558df4-27d3-4be6-87c7-e0b283b2b183",
   "metadata": {},
   "outputs": [],
   "source": [
    "sf = sf.drop_duplicates([\"id\"])\n",
    "#sf"
   ]
  },
  {
   "cell_type": "code",
   "execution_count": 62,
   "id": "e1fb4027-897c-44ba-b2c3-a6dc51395108",
   "metadata": {},
   "outputs": [],
   "source": [
    "#sf['date'].value_counts()"
   ]
  },
  {
   "cell_type": "code",
   "execution_count": null,
   "id": "6732498a-1a9d-471b-8f17-c34b959e60af",
   "metadata": {},
   "outputs": [],
   "source": []
  },
  {
   "cell_type": "markdown",
   "id": "2d1b6a35-fa8c-4018-a0ae-8ec4be8abf2f",
   "metadata": {},
   "source": [
    "##### NYC"
   ]
  },
  {
   "cell_type": "code",
   "execution_count": 57,
   "id": "95a74db3-bd7a-4b7b-bc90-86a8abd2b019",
   "metadata": {},
   "outputs": [],
   "source": [
    "#read in all SF files\n",
    "nyc_2 = pd.read_csv('11_2_pull/NYC_Jobs.csv') #884\n",
    "nyc_4 = pd.read_csv('Data_until11_4/NYC_Jobs.csv') #1002\n",
    "nyc_5 = pd.read_csv('11_5/NYC_Jobs.csv') #902\n",
    "nyc_6 = pd.read_csv('11_6/NYC_Jobs.csv') #885\n",
    "nyc_7 = pd.read_csv('11_7/NYC_Jobs.csv') #885\n",
    "nyc_8 = pd.read_csv('11_8/NYC_Jobs.csv') #933\n",
    "nyc_9 = pd.read_csv('11_9/NYC_Jobs.csv') #942\n",
    "nyc_10 = pd.read_csv('11_10/NYC_Jobs.csv') #901\n",
    "nyc_11_12 = pd.read_csv('11_11_12/NYC_Jobs.csv') #901\n",
    "nyc_13 = pd.read_csv('11_13/NYC_Jobs.csv') #901\n",
    "nyc_14 = pd.read_csv('11_14/NYC_Jobs.csv') #901\n",
    "nyc_15 = pd.read_csv('11_15/NYC_Jobs.csv') #901\n",
    "\n",
    "#stack df\n",
    "nyc = pd.concat([nyc_2, nyc_4, nyc_5, nyc_6, nyc_7, nyc_8, nyc_9, nyc_10, nyc_11_12, nyc_13, nyc_14, nyc_15], axis=0)\n",
    "nyc = nyc.drop_duplicates([\"id\"])\n",
    "#nyc"
   ]
  },
  {
   "cell_type": "code",
   "execution_count": 63,
   "id": "45078dff-1409-4cbd-88a8-7142ec8a0c3b",
   "metadata": {},
   "outputs": [],
   "source": [
    "#nyc['date'].value_counts()"
   ]
  },
  {
   "cell_type": "code",
   "execution_count": null,
   "id": "9b0a8cf5-47d1-4e26-be57-84ddeea0b447",
   "metadata": {},
   "outputs": [],
   "source": []
  },
  {
   "cell_type": "markdown",
   "id": "4713803b-300c-4eee-bee5-f51cacb36684",
   "metadata": {},
   "source": [
    "#### TX"
   ]
  },
  {
   "cell_type": "code",
   "execution_count": 59,
   "id": "ae8828bc-9142-4199-a5e3-0429eb869afd",
   "metadata": {},
   "outputs": [],
   "source": [
    "#read in all SF files\n",
    "tx_2 = pd.read_csv('11_2_pull/TX_Jobs.csv') #789\n",
    "tx_4 = pd.read_csv('Data_until11_4/TX_Jobs.csv') #1293\n",
    "tx_5 = pd.read_csv('11_5/TX_Jobs.csv') #790\n",
    "tx_6 = pd.read_csv('11_6/TX_Jobs.csv') #935\n",
    "tx_7 = pd.read_csv('11_7/TX_Jobs.csv') #935\n",
    "tx_8 = pd.read_csv('11_8/TX_Jobs.csv') #935\n",
    "tx_9 = pd.read_csv('11_9/TX_Jobs.csv') #935\n",
    "tx_10 = pd.read_csv('11_10/TX_Jobs.csv') #935\n",
    "tx_11_12 = pd.read_csv('11_11_12/TX_Jobs.csv') #935\n",
    "tx_13 = pd.read_csv('11_13/TX_Jobs.csv') #935\n",
    "tx_14 = pd.read_csv('11_14/TX_Jobs.csv') #935\n",
    "tx_15 = pd.read_csv('11_15/TX_Jobs.csv') #935\n",
    "\n",
    "#stack df\n",
    "tx = pd.concat([tx_2, tx_4, tx_5, tx_6, tx_7, tx_8, tx_9, tx_10, tx_11_12, tx_13, tx_14, tx_15], axis=0)\n",
    "\n",
    "tx = tx.drop_duplicates([\"id\"])\n",
    "#tx"
   ]
  },
  {
   "cell_type": "code",
   "execution_count": 64,
   "id": "ba7850f5-131f-4c42-99b1-bebd8cc096f8",
   "metadata": {},
   "outputs": [],
   "source": [
    "#tx['date'].value_counts()"
   ]
  },
  {
   "cell_type": "code",
   "execution_count": null,
   "id": "df2ffd2a-c326-49c8-9034-bb2902c79c51",
   "metadata": {},
   "outputs": [],
   "source": []
  },
  {
   "cell_type": "markdown",
   "id": "73dbfb92-1257-4e63-8e0f-45c1d11cf0c8",
   "metadata": {},
   "source": [
    "##### NC"
   ]
  },
  {
   "cell_type": "code",
   "execution_count": 36,
   "id": "50dfdb3a-3043-4aed-ac80-7a0b230e20d0",
   "metadata": {
    "scrolled": true
   },
   "outputs": [],
   "source": [
    "#read in all SF files\n",
    "nc_2 = pd.read_csv('11_2_pull/NC_Jobs.csv') #789\n",
    "nc_4 = pd.read_csv('Data_until11_4/NC_Jobs.csv') #1293\n",
    "nc_5 = pd.read_csv('11_5/NC_Jobs.csv') #790\n",
    "nc_6 = pd.read_csv('11_6/NC_Jobs.csv') #935\n",
    "nc_7 = pd.read_csv('11_7/NC_Jobs.csv') #935\n",
    "nc_8 = pd.read_csv('11_8/NC_Jobs.csv') #935\n",
    "nc_9 = pd.read_csv('11_9/NC_Jobs.csv') #935\n",
    "nc_10 = pd.read_csv('11_10/NC_Jobs.csv') #935\n",
    "nc_11_12 = pd.read_csv('11_11_12/NC_Jobs.csv') #935\n",
    "nc_13 = pd.read_csv('11_13/NC_Jobs.csv') #935\n",
    "nc_14 = pd.read_csv('11_14/NC_Jobs.csv') #935\n",
    "nc_15 = pd.read_csv('11_15/NC_Jobs.csv') #935\n",
    "\n",
    "#stack df\n",
    "nc = pd.concat([nc_2, nc_4, nc_5, nc_6, nc_7, nc_8, nc_9, nc_10, nc_11_12, nc_13, nc_14, nc_15], axis=0)\n",
    "\n",
    "nc = nc.drop_duplicates([\"id\"])\n",
    "nc"
   ]
  },
  {
   "cell_type": "code",
   "execution_count": 65,
   "id": "4e3995cd-a037-4976-8567-c184974bbed1",
   "metadata": {},
   "outputs": [],
   "source": [
    "#nc['date'].value_counts()"
   ]
  },
  {
   "cell_type": "raw",
   "id": "6ba087e9-a0cc-47e6-ac19-f12d19f43e23",
   "metadata": {},
   "source": []
  },
  {
   "cell_type": "markdown",
   "id": "da976786-d47f-4980-ae71-beae98a3a54c",
   "metadata": {},
   "source": [
    "##### Combine all places & export"
   ]
  },
  {
   "cell_type": "code",
   "execution_count": 66,
   "id": "96c2f0ea-279c-43f0-9bec-0d5413eed0fe",
   "metadata": {},
   "outputs": [],
   "source": [
    "all_jobs = pd.concat([sf, nyc, tx, nc], axis=0)\n",
    "#all_jobs"
   ]
  },
  {
   "cell_type": "code",
   "execution_count": 67,
   "id": "0e488611-bd84-4281-b1bd-3f129d167164",
   "metadata": {},
   "outputs": [],
   "source": [
    "all_jobs.to_csv(\"all_jobs.csv\", index=False)"
   ]
  },
  {
   "cell_type": "markdown",
   "id": "515253f7-57d5-448b-89bb-7cef0b6ad879",
   "metadata": {},
   "source": [
    "#### Clean up City & State Columns"
   ]
  },
  {
   "cell_type": "code",
   "execution_count": 68,
   "id": "3afe8cec-02eb-43df-b3da-afb828986145",
   "metadata": {},
   "outputs": [],
   "source": [
    "all_jobs = pd.read_csv('all_jobs.csv')\n",
    "all_jobs_cleaned = all_jobs.copy()"
   ]
  },
  {
   "cell_type": "code",
   "execution_count": 70,
   "id": "ab47975c-bc79-43ab-93ec-57ba792469db",
   "metadata": {},
   "outputs": [
    {
     "data": {
      "text/html": [
       "<div>\n",
       "<style scoped>\n",
       "    .dataframe tbody tr th:only-of-type {\n",
       "        vertical-align: middle;\n",
       "    }\n",
       "\n",
       "    .dataframe tbody tr th {\n",
       "        vertical-align: top;\n",
       "    }\n",
       "\n",
       "    .dataframe thead th {\n",
       "        text-align: right;\n",
       "    }\n",
       "</style>\n",
       "<table border=\"1\" class=\"dataframe\">\n",
       "  <thead>\n",
       "    <tr style=\"text-align: right;\">\n",
       "      <th></th>\n",
       "      <th>status</th>\n",
       "      <th>title</th>\n",
       "      <th>company</th>\n",
       "      <th>location</th>\n",
       "      <th>date</th>\n",
       "      <th>blurb</th>\n",
       "      <th>tags</th>\n",
       "      <th>link</th>\n",
       "      <th>id</th>\n",
       "      <th>provider</th>\n",
       "      <th>query</th>\n",
       "      <th>locale</th>\n",
       "      <th>wage</th>\n",
       "      <th>remoteness</th>\n",
       "    </tr>\n",
       "  </thead>\n",
       "  <tbody>\n",
       "    <tr>\n",
       "      <th>0</th>\n",
       "      <td>NEW</td>\n",
       "      <td>Direct Data Entry Operator</td>\n",
       "      <td>WESTAMERICA BANK</td>\n",
       "      <td>Fairfield, CA 94534</td>\n",
       "      <td>2024-10-17</td>\n",
       "      <td>As a Direct Data Entry Operator, under general...</td>\n",
       "      <td>Job types: Full-time\\r\\nJob types cc: Full-time</td>\n",
       "      <td>https://www.indeed.com/m/viewjob?jk=9af5925791...</td>\n",
       "      <td>IndeedScraperUSAEng_9af5925791536fd2</td>\n",
       "      <td>IndeedScraperUSAEng</td>\n",
       "      <td>Data</td>\n",
       "      <td>USA_ENGLISH</td>\n",
       "      <td>$16 - $17.07 hourly</td>\n",
       "      <td>UNKNOWN</td>\n",
       "    </tr>\n",
       "    <tr>\n",
       "      <th>1</th>\n",
       "      <td>NEW</td>\n",
       "      <td>Cloud Data Architect-Director</td>\n",
       "      <td>CEDENT</td>\n",
       "      <td>San Francisco, CA</td>\n",
       "      <td>2024-10-03</td>\n",
       "      <td>Provide data engineers, quant engineers and re...</td>\n",
       "      <td>Job types: Full-time\\r\\nJob types cc: Full-time</td>\n",
       "      <td>https://www.indeed.com/m/viewjob?jk=66827a8f8e...</td>\n",
       "      <td>IndeedScraperUSAEng_66827a8f8e70c0e9</td>\n",
       "      <td>IndeedScraperUSAEng</td>\n",
       "      <td>Data</td>\n",
       "      <td>USA_ENGLISH</td>\n",
       "      <td>NaN</td>\n",
       "      <td>UNKNOWN</td>\n",
       "    </tr>\n",
       "    <tr>\n",
       "      <th>2</th>\n",
       "      <td>NEW</td>\n",
       "      <td>Data Aide 2</td>\n",
       "      <td>Stanford University</td>\n",
       "      <td>Stanford, CA</td>\n",
       "      <td>2024-10-03</td>\n",
       "      <td>Develop and apply novel clinical data curation...</td>\n",
       "      <td>Job types: Full-time\\r\\nJob types cc: Full-time</td>\n",
       "      <td>https://www.indeed.com/m/viewjob?jk=db7d847fbf...</td>\n",
       "      <td>IndeedScraperUSAEng_db7d847fbf8a9612</td>\n",
       "      <td>IndeedScraperUSAEng</td>\n",
       "      <td>Data</td>\n",
       "      <td>USA_ENGLISH</td>\n",
       "      <td>$31.21 - $35.6 hourly</td>\n",
       "      <td>UNKNOWN</td>\n",
       "    </tr>\n",
       "    <tr>\n",
       "      <th>3</th>\n",
       "      <td>NEW</td>\n",
       "      <td>Field Applications Engineer - Data Center</td>\n",
       "      <td>Amphenol TCS</td>\n",
       "      <td>Santa Clara, CA</td>\n",
       "      <td>2024-10-22</td>\n",
       "      <td>Amphenol High Speed and Commercial Products Gr...</td>\n",
       "      <td>Benefits: Paid holidays, Disability insurance,...</td>\n",
       "      <td>https://www.indeed.com/m/viewjob?jk=cfb3f4f072...</td>\n",
       "      <td>IndeedScraperUSAEng_cfb3f4f072371529</td>\n",
       "      <td>IndeedScraperUSAEng</td>\n",
       "      <td>Data</td>\n",
       "      <td>USA_ENGLISH</td>\n",
       "      <td>$80750 - $148870 yearly</td>\n",
       "      <td>UNKNOWN</td>\n",
       "    </tr>\n",
       "    <tr>\n",
       "      <th>4</th>\n",
       "      <td>NEW</td>\n",
       "      <td>Analyst, YouthTruth</td>\n",
       "      <td>CEP Global</td>\n",
       "      <td>San Francisco, CA</td>\n",
       "      <td>2024-10-03</td>\n",
       "      <td>Over time, contribute insights to new features...</td>\n",
       "      <td>Benefits: Dental insurance, 401(k), Flexible s...</td>\n",
       "      <td>https://www.indeed.com/m/viewjob?jk=9365df687b...</td>\n",
       "      <td>IndeedScraperUSAEng_9365df687b5694e9</td>\n",
       "      <td>IndeedScraperUSAEng</td>\n",
       "      <td>Data</td>\n",
       "      <td>USA_ENGLISH</td>\n",
       "      <td>$90756 - $90756 yearly</td>\n",
       "      <td>UNKNOWN</td>\n",
       "    </tr>\n",
       "    <tr>\n",
       "      <th>...</th>\n",
       "      <td>...</td>\n",
       "      <td>...</td>\n",
       "      <td>...</td>\n",
       "      <td>...</td>\n",
       "      <td>...</td>\n",
       "      <td>...</td>\n",
       "      <td>...</td>\n",
       "      <td>...</td>\n",
       "      <td>...</td>\n",
       "      <td>...</td>\n",
       "      <td>...</td>\n",
       "      <td>...</td>\n",
       "      <td>...</td>\n",
       "      <td>...</td>\n",
       "    </tr>\n",
       "    <tr>\n",
       "      <th>7953</th>\n",
       "      <td>NEW</td>\n",
       "      <td>Time-Limited Environmental Program Consultant ...</td>\n",
       "      <td>North Carolina Dept of Environmental Quality</td>\n",
       "      <td>Wake County, NC</td>\n",
       "      <td>2024-11-14</td>\n",
       "      <td>Create and manage spatial data (with focus on ...</td>\n",
       "      <td>Job types: Full-time\\r\\nRemote: Hybrid work\\r\\...</td>\n",
       "      <td>https://www.indeed.com/m/viewjob?jk=e445b82840...</td>\n",
       "      <td>IndeedScraperUSAEng_e445b828401ba1ba</td>\n",
       "      <td>IndeedScraperUSAEng</td>\n",
       "      <td>Data</td>\n",
       "      <td>USA_ENGLISH</td>\n",
       "      <td>$59752 - $104566 yearly</td>\n",
       "      <td>TEMPORARILY_REMOTE</td>\n",
       "    </tr>\n",
       "    <tr>\n",
       "      <th>7954</th>\n",
       "      <td>NEW</td>\n",
       "      <td>Senior Data Analyst</td>\n",
       "      <td>Grover Gaming</td>\n",
       "      <td>Greenville, NC 27834</td>\n",
       "      <td>2024-11-14</td>\n",
       "      <td>Understanding of the various data sources appl...</td>\n",
       "      <td>NaN</td>\n",
       "      <td>https://www.indeed.com/m/viewjob?jk=20383b7926...</td>\n",
       "      <td>IndeedScraperUSAEng_20383b7926f5d1c4</td>\n",
       "      <td>IndeedScraperUSAEng</td>\n",
       "      <td>Data</td>\n",
       "      <td>USA_ENGLISH</td>\n",
       "      <td>NaN</td>\n",
       "      <td>UNKNOWN</td>\n",
       "    </tr>\n",
       "    <tr>\n",
       "      <th>7955</th>\n",
       "      <td>NEW</td>\n",
       "      <td>Whole Child Health Section Data Analyst</td>\n",
       "      <td>State of North Carolina</td>\n",
       "      <td>Raleigh, NC 27603</td>\n",
       "      <td>2024-11-13</td>\n",
       "      <td>This will include: child and adolescent health...</td>\n",
       "      <td>Job types: Full-time\\r\\nJob types cc: Full-time</td>\n",
       "      <td>https://www.indeed.com/m/viewjob?jk=9326be7ae5...</td>\n",
       "      <td>IndeedScraperUSAEng_9326be7ae5482dc6</td>\n",
       "      <td>IndeedScraperUSAEng</td>\n",
       "      <td>Data</td>\n",
       "      <td>USA_ENGLISH</td>\n",
       "      <td>$49158 - $86026 yearly</td>\n",
       "      <td>UNKNOWN</td>\n",
       "    </tr>\n",
       "    <tr>\n",
       "      <th>7956</th>\n",
       "      <td>NEW</td>\n",
       "      <td>Software Development Business Analyst</td>\n",
       "      <td>Noregon Systems Inc</td>\n",
       "      <td>Greensboro, NC 27409</td>\n",
       "      <td>2024-11-14</td>\n",
       "      <td>A Software Development Business Analyst at Nor...</td>\n",
       "      <td>Job types: Full-time\\r\\nJob types cc: Full-time</td>\n",
       "      <td>https://www.indeed.com/m/viewjob?jk=88cb5974c1...</td>\n",
       "      <td>IndeedScraperUSAEng_88cb5974c1a8be0d</td>\n",
       "      <td>IndeedScraperUSAEng</td>\n",
       "      <td>Data</td>\n",
       "      <td>USA_ENGLISH</td>\n",
       "      <td>$80000 - $95000 yearly</td>\n",
       "      <td>UNKNOWN</td>\n",
       "    </tr>\n",
       "    <tr>\n",
       "      <th>7957</th>\n",
       "      <td>NEW</td>\n",
       "      <td>Data Center Manager</td>\n",
       "      <td>Computer World Services</td>\n",
       "      <td>Durham, NC</td>\n",
       "      <td>2024-10-15</td>\n",
       "      <td>Technical proficiency in data center infrastru...</td>\n",
       "      <td>Job types: Full-time\\r\\nJob types cc: Full-tim...</td>\n",
       "      <td>https://www.indeed.com/m/viewjob?jk=157a4495fe...</td>\n",
       "      <td>IndeedScraperUSAEng_157a4495fe26b361</td>\n",
       "      <td>IndeedScraperUSAEng</td>\n",
       "      <td>Data</td>\n",
       "      <td>USA_ENGLISH</td>\n",
       "      <td>NaN</td>\n",
       "      <td>UNKNOWN</td>\n",
       "    </tr>\n",
       "  </tbody>\n",
       "</table>\n",
       "<p>7958 rows × 14 columns</p>\n",
       "</div>"
      ],
      "text/plain": [
       "     status                                              title  \\\n",
       "0       NEW                         Direct Data Entry Operator   \n",
       "1       NEW                      Cloud Data Architect-Director   \n",
       "2       NEW                                        Data Aide 2   \n",
       "3       NEW          Field Applications Engineer - Data Center   \n",
       "4       NEW                                Analyst, YouthTruth   \n",
       "...     ...                                                ...   \n",
       "7953    NEW  Time-Limited Environmental Program Consultant ...   \n",
       "7954    NEW                                Senior Data Analyst   \n",
       "7955    NEW            Whole Child Health Section Data Analyst   \n",
       "7956    NEW              Software Development Business Analyst   \n",
       "7957    NEW                                Data Center Manager   \n",
       "\n",
       "                                           company              location  \\\n",
       "0                                 WESTAMERICA BANK   Fairfield, CA 94534   \n",
       "1                                           CEDENT     San Francisco, CA   \n",
       "2                              Stanford University          Stanford, CA   \n",
       "3                                     Amphenol TCS       Santa Clara, CA   \n",
       "4                                       CEP Global     San Francisco, CA   \n",
       "...                                            ...                   ...   \n",
       "7953  North Carolina Dept of Environmental Quality       Wake County, NC   \n",
       "7954                                 Grover Gaming  Greenville, NC 27834   \n",
       "7955                       State of North Carolina     Raleigh, NC 27603   \n",
       "7956                           Noregon Systems Inc  Greensboro, NC 27409   \n",
       "7957                       Computer World Services            Durham, NC   \n",
       "\n",
       "            date                                              blurb  \\\n",
       "0     2024-10-17  As a Direct Data Entry Operator, under general...   \n",
       "1     2024-10-03  Provide data engineers, quant engineers and re...   \n",
       "2     2024-10-03  Develop and apply novel clinical data curation...   \n",
       "3     2024-10-22  Amphenol High Speed and Commercial Products Gr...   \n",
       "4     2024-10-03  Over time, contribute insights to new features...   \n",
       "...          ...                                                ...   \n",
       "7953  2024-11-14  Create and manage spatial data (with focus on ...   \n",
       "7954  2024-11-14  Understanding of the various data sources appl...   \n",
       "7955  2024-11-13  This will include: child and adolescent health...   \n",
       "7956  2024-11-14  A Software Development Business Analyst at Nor...   \n",
       "7957  2024-10-15  Technical proficiency in data center infrastru...   \n",
       "\n",
       "                                                   tags  \\\n",
       "0       Job types: Full-time\\r\\nJob types cc: Full-time   \n",
       "1       Job types: Full-time\\r\\nJob types cc: Full-time   \n",
       "2       Job types: Full-time\\r\\nJob types cc: Full-time   \n",
       "3     Benefits: Paid holidays, Disability insurance,...   \n",
       "4     Benefits: Dental insurance, 401(k), Flexible s...   \n",
       "...                                                 ...   \n",
       "7953  Job types: Full-time\\r\\nRemote: Hybrid work\\r\\...   \n",
       "7954                                                NaN   \n",
       "7955    Job types: Full-time\\r\\nJob types cc: Full-time   \n",
       "7956    Job types: Full-time\\r\\nJob types cc: Full-time   \n",
       "7957  Job types: Full-time\\r\\nJob types cc: Full-tim...   \n",
       "\n",
       "                                                   link  \\\n",
       "0     https://www.indeed.com/m/viewjob?jk=9af5925791...   \n",
       "1     https://www.indeed.com/m/viewjob?jk=66827a8f8e...   \n",
       "2     https://www.indeed.com/m/viewjob?jk=db7d847fbf...   \n",
       "3     https://www.indeed.com/m/viewjob?jk=cfb3f4f072...   \n",
       "4     https://www.indeed.com/m/viewjob?jk=9365df687b...   \n",
       "...                                                 ...   \n",
       "7953  https://www.indeed.com/m/viewjob?jk=e445b82840...   \n",
       "7954  https://www.indeed.com/m/viewjob?jk=20383b7926...   \n",
       "7955  https://www.indeed.com/m/viewjob?jk=9326be7ae5...   \n",
       "7956  https://www.indeed.com/m/viewjob?jk=88cb5974c1...   \n",
       "7957  https://www.indeed.com/m/viewjob?jk=157a4495fe...   \n",
       "\n",
       "                                        id             provider query  \\\n",
       "0     IndeedScraperUSAEng_9af5925791536fd2  IndeedScraperUSAEng  Data   \n",
       "1     IndeedScraperUSAEng_66827a8f8e70c0e9  IndeedScraperUSAEng  Data   \n",
       "2     IndeedScraperUSAEng_db7d847fbf8a9612  IndeedScraperUSAEng  Data   \n",
       "3     IndeedScraperUSAEng_cfb3f4f072371529  IndeedScraperUSAEng  Data   \n",
       "4     IndeedScraperUSAEng_9365df687b5694e9  IndeedScraperUSAEng  Data   \n",
       "...                                    ...                  ...   ...   \n",
       "7953  IndeedScraperUSAEng_e445b828401ba1ba  IndeedScraperUSAEng  Data   \n",
       "7954  IndeedScraperUSAEng_20383b7926f5d1c4  IndeedScraperUSAEng  Data   \n",
       "7955  IndeedScraperUSAEng_9326be7ae5482dc6  IndeedScraperUSAEng  Data   \n",
       "7956  IndeedScraperUSAEng_88cb5974c1a8be0d  IndeedScraperUSAEng  Data   \n",
       "7957  IndeedScraperUSAEng_157a4495fe26b361  IndeedScraperUSAEng  Data   \n",
       "\n",
       "           locale                     wage          remoteness  \n",
       "0     USA_ENGLISH      $16 - $17.07 hourly             UNKNOWN  \n",
       "1     USA_ENGLISH                      NaN             UNKNOWN  \n",
       "2     USA_ENGLISH    $31.21 - $35.6 hourly             UNKNOWN  \n",
       "3     USA_ENGLISH  $80750 - $148870 yearly             UNKNOWN  \n",
       "4     USA_ENGLISH   $90756 - $90756 yearly             UNKNOWN  \n",
       "...           ...                      ...                 ...  \n",
       "7953  USA_ENGLISH  $59752 - $104566 yearly  TEMPORARILY_REMOTE  \n",
       "7954  USA_ENGLISH                      NaN             UNKNOWN  \n",
       "7955  USA_ENGLISH   $49158 - $86026 yearly             UNKNOWN  \n",
       "7956  USA_ENGLISH   $80000 - $95000 yearly             UNKNOWN  \n",
       "7957  USA_ENGLISH                      NaN             UNKNOWN  \n",
       "\n",
       "[7958 rows x 14 columns]"
      ]
     },
     "execution_count": 70,
     "metadata": {},
     "output_type": "execute_result"
    }
   ],
   "source": [
    "all_jobs_cleaned #7958"
   ]
  },
  {
   "cell_type": "code",
   "execution_count": 73,
   "id": "91d2795f-9589-425d-9459-90fb16aea3be",
   "metadata": {},
   "outputs": [],
   "source": [
    "#create state column\n",
    "all_jobs_cleaned['state_zip'] = all_jobs['location'].str.split(',').str[1]\n",
    "all_jobs_cleaned['state'] = all_jobs_cleaned['state_zip'].str.split(' ').str[1]\n",
    "# #create city column\n",
    "all_jobs_cleaned['city'] = all_jobs_cleaned['location'].str.split(',').str[0]\n",
    "#all_jobs_cleaned"
   ]
  },
  {
   "cell_type": "code",
   "execution_count": 74,
   "id": "a8e5b09d-bb4d-4651-808d-5e12a0f66f70",
   "metadata": {},
   "outputs": [],
   "source": [
    "all_jobs_cleaned.to_csv(\"all_jobs_cleaned.csv\", index=False)"
   ]
  },
  {
   "cell_type": "markdown",
   "id": "676013ed-5838-470b-81da-8ba940546c4c",
   "metadata": {},
   "source": [
    "##### Export out df of individual states"
   ]
  },
  {
   "cell_type": "code",
   "execution_count": 49,
   "id": "fc276250-2296-432e-97a3-d5e5e3420e4f",
   "metadata": {},
   "outputs": [],
   "source": [
    "ca = all_jobs_cleaned.loc[all_jobs_cleaned['state'] == 'CA']\n",
    "ca.to_csv(\"ca.csv\", index=False)\n",
    "\n",
    "# ny = all_jobs_cleaned.loc[all_jobs_cleaned['state'] == 'NY']\n",
    "# ny.to_csv(\"ny.csv\", index=False)\n",
    "\n",
    "# tx = all_jobs_cleaned.loc[all_jobs_cleaned['state'] == 'TX']\n",
    "# tx.to_csv(\"tx.csv\", index=False)\n",
    "\n",
    "# nc = all_jobs_cleaned.loc[all_jobs_cleaned['state'] == 'NC']\n",
    "# nc.to_csv(\"nc.csv\", index=False)"
   ]
  },
  {
   "cell_type": "code",
   "execution_count": null,
   "id": "aa6a6e02-77ad-46b7-8197-81e5be3f34e6",
   "metadata": {},
   "outputs": [],
   "source": []
  },
  {
   "cell_type": "markdown",
   "id": "da01e69a-e701-418c-879d-ce5eea5702d7",
   "metadata": {},
   "source": [
    "#### Pool Neighborhoods into Cities"
   ]
  },
  {
   "cell_type": "code",
   "execution_count": 19,
   "id": "de859cb1-fe72-45a9-a7a9-257232697b80",
   "metadata": {},
   "outputs": [],
   "source": [
    "for index, row in all_jobs_cleaned.iterrows():\n",
    "    if all_jobs_cleaned['state'][index] == 'CA':\n",
    "        all_jobs_cleaned.loc[all_jobs_cleaned['city'].str.contains('San Francisco'), 'city'] = 'San Francisco'\n",
    "        all_jobs_cleaned.loc[all_jobs_cleaned['city'].str.contains('East Bay'), 'city'] = 'Oakland'\n",
    "        all_jobs_cleaned.loc[all_jobs_cleaned['city'].str.contains('SF County'), 'city'] = 'San Francisco'\n",
    "        all_jobs_cleaned.loc[all_jobs_cleaned['city'].str.contains('Stanford'), 'city'] = 'Palo Alto'\n",
    "        all_jobs_cleaned.loc[all_jobs_cleaned['city'].str.contains('Santa Clara County'), 'city'] = 'Santa Clara'\n",
    "        all_jobs_cleaned.loc[all_jobs_cleaned['city'].str.contains('Sacramento'), 'city'] = 'Sacramento'\n",
    "        all_jobs_cleaned.loc[all_jobs_cleaned['city'].str.contains('East Palo Alto'), 'city'] = 'Palo Alto'\n",
    "        all_jobs_cleaned.loc[all_jobs_cleaned['city'].str.contains('Travis AFB'), 'city'] = 'Fairfield'\n",
    "        all_jobs_cleaned.loc[all_jobs_cleaned['city'].str.contains('San Joaquin'), 'city'] = 'Ripon'\n",
    "        all_jobs_cleaned.loc[all_jobs_cleaned['city'].str.contains('San Mateo County'), 'city'] = 'San Mateo'\n",
    "        all_jobs_cleaned.loc[all_jobs_cleaned['city'].str.contains('Oakland-Berkeley'), 'city'] = 'Oakland'\n",
    "        all_jobs_cleaned.loc[all_jobs_cleaned['city'].str.contains('Silicon Valley'), 'city'] = 'San Jose'\n",
    "        all_jobs_cleaned.loc[all_jobs_cleaned['city'].str.contains('Peninsula'), 'city'] = 'San Mateo'\n",
    "        all_jobs_cleaned.loc[all_jobs_cleaned['city'].str.contains('August'), 'city'] = 'Stockton'\n",
    "        all_jobs_cleaned.loc[all_jobs_cleaned['city'].str.contains('El Dorado Hills'), 'city'] = 'Folsom'\n",
    "\n",
    "    if all_jobs_cleaned['state'][index] == 'TX':\n",
    "        all_jobs_cleaned.loc[all_jobs_cleaned['city'].str.contains('Dallas County'), 'city'] = 'Dallas'\n",
    "        all_jobs_cleaned.loc[all_jobs_cleaned['city'].str.contains('Tarrant county'), 'city'] = 'Fort Worth'\n",
    "        all_jobs_cleaned.loc[all_jobs_cleaned['city'].str.contains('Las Colinas'), 'city'] = 'Irving'\n",
    "        all_jobs_cleaned.loc[all_jobs_cleaned['city'].str.contains('Addison'), 'city'] = 'Dallas'\n",
    "        all_jobs_cleaned.loc[all_jobs_cleaned['city'].str.contains('Dallas-Fort Worth'), 'city'] = 'Fort Worth'\n",
    "        all_jobs_cleaned.loc[all_jobs_cleaned['city'].str.contains('The Colony'), 'city'] = 'Frisco'\n",
    "        all_jobs_cleaned.loc[all_jobs_cleaned['city'].str.contains('Westlake'), 'city'] = 'Fort Worth'\n",
    "        all_jobs_cleaned.loc[all_jobs_cleaned['city'].str.contains('Burleson'), 'city'] = 'Fort Worth'\n",
    "        all_jobs_cleaned.loc[all_jobs_cleaned['city'].str.contains('Allen'), 'city'] = 'Dallas '\n",
    "\n",
    "    if all_jobs_cleaned['state'][index] == 'NY':\n",
    "        all_jobs_cleaned.loc[all_jobs_cleaned['city'].str.contains('New york'), 'city'] = 'Manhattan' \n",
    "        all_jobs_cleaned.loc[all_jobs_cleaned['city'].str.contains('Woodside'), 'city'] = 'Queens'\n",
    "        all_jobs_cleaned.loc[all_jobs_cleaned['city'].str.contains('College Point'), 'city'] = 'Queens'\n",
    "        all_jobs_cleaned.loc[all_jobs_cleaned['city'].str.contains('Richmond Hill'), 'city'] = 'Queens'\n",
    "        all_jobs_cleaned.loc[all_jobs_cleaned['city'].str.contains('Far Rockaway'), 'city'] = 'Queens'\n",
    "        all_jobs_cleaned.loc[all_jobs_cleaned['city'].str.contains('Williamsburg'), 'city'] = 'Brooklyn'\n",
    "        all_jobs_cleaned.loc[all_jobs_cleaned['city'].str.contains('Greenpoint'), 'city'] = 'Brooklyn'\n",
    "        all_jobs_cleaned.loc[all_jobs_cleaned['city'].str.contains('Bushwick'), 'city'] = 'Brooklyn'\n",
    "        all_jobs_cleaned.loc[all_jobs_cleaned['city'].str.contains('Riverdale'), 'city'] = 'Bronx'\n",
    "        all_jobs_cleaned.loc[all_jobs_cleaned['city'].str.contains('Richmond'), 'city'] = 'Staten Island'\n",
    "\n",
    "    if all_jobs_cleaned['state'][index] == 'NC':\n",
    "        all_jobs_cleaned.loc[all_jobs_cleaned['city'].str.contains('Research Triangle Park'), 'city'] = 'Raleigh'\n",
    "        all_jobs_cleaned.loc[all_jobs_cleaned['city'].str.contains('Raleigh-Durham'), 'city'] = 'Raleigh'\n",
    "        all_jobs_cleaned.loc[all_jobs_cleaned['city'].str.contains('Fort Liberty'), 'city'] = 'Fayetteville'\n",
    "        all_jobs_cleaned.loc[all_jobs_cleaned['city'].str.contains('Wake County'), 'city'] = 'Raleigh'\n",
    "        all_jobs_cleaned.loc[all_jobs_cleaned['city'].str.contains('Browns Summit'), 'city'] = 'Greensboro'"
   ]
  },
  {
   "cell_type": "code",
   "execution_count": 75,
   "id": "804a9c54-0877-4a14-8c4f-2539dd901390",
   "metadata": {},
   "outputs": [],
   "source": [
    "ca = all_jobs_cleaned.loc[all_jobs_cleaned['state'] == 'CA']\n",
    "ca.to_csv(\"ca.csv\", index=False)\n",
    "\n",
    "ny = all_jobs_cleaned.loc[all_jobs_cleaned['state'] == 'NY']\n",
    "ny.to_csv(\"ny.csv\", index=False)\n",
    "\n",
    "tx = all_jobs_cleaned.loc[all_jobs_cleaned['state'] == 'TX']\n",
    "tx.to_csv(\"tx.csv\", index=False)\n",
    "\n",
    "nc = all_jobs_cleaned.loc[all_jobs_cleaned['state'] == 'NC']\n",
    "nc.to_csv(\"nc.csv\", index=False)"
   ]
  },
  {
   "cell_type": "code",
   "execution_count": null,
   "id": "e73957b2-d7dc-4d06-82c7-d99b291d9d3d",
   "metadata": {},
   "outputs": [],
   "source": [
    "               "
   ]
  },
  {
   "cell_type": "code",
   "execution_count": null,
   "id": "bccb90b1-99ea-4965-a184-1d7d3a043074",
   "metadata": {},
   "outputs": [],
   "source": []
  },
  {
   "cell_type": "code",
   "execution_count": null,
   "id": "c2e35fc8-3538-4707-9e51-4687f9cfaf92",
   "metadata": {},
   "outputs": [],
   "source": []
  },
  {
   "cell_type": "code",
   "execution_count": null,
   "id": "1eb5817d-7f29-4b99-9acd-a2fd99e3fe51",
   "metadata": {},
   "outputs": [],
   "source": []
  },
  {
   "cell_type": "code",
   "execution_count": null,
   "id": "2cdfb326-fd3b-4fa9-8d10-ab9d8d053ab7",
   "metadata": {},
   "outputs": [],
   "source": []
  },
  {
   "cell_type": "code",
   "execution_count": null,
   "id": "9ee07f6a-4f69-4678-86d9-65f9e5dacfa3",
   "metadata": {},
   "outputs": [],
   "source": []
  },
  {
   "cell_type": "code",
   "execution_count": null,
   "id": "22587209-c356-4c73-b3b5-9424ae77d5d4",
   "metadata": {},
   "outputs": [],
   "source": [
    "# import requests\n",
    "# from bs4 import BeautifulSoup"
   ]
  },
  {
   "cell_type": "code",
   "execution_count": null,
   "id": "55668e14-4f74-401d-8f4a-37c5bf4dd9ef",
   "metadata": {},
   "outputs": [],
   "source": [
    "# # Fetch the HTML content from the website\n",
    "# url = \"https://www.example.com\"\n",
    "# response = requests.get(url)\n",
    "# html_content = response.content"
   ]
  },
  {
   "cell_type": "code",
   "execution_count": null,
   "id": "51d89e96-dcde-4aa8-8372-0bd4360fdd8c",
   "metadata": {},
   "outputs": [],
   "source": [
    "\n",
    "# # Parse the HTML using BeautifulSoup\n",
    "# soup = BeautifulSoup(html_content, 'html.parser')\n",
    "\n",
    "# # Extract all links from the page\n",
    "# links = soup.find_all('a')\n",
    "\n",
    "# # Print the href attribute of each link\n",
    "# for link in links:\n",
    "#     href = link.get('href')\n",
    "#     if href:\n",
    "#         print(href)"
   ]
  },
  {
   "cell_type": "code",
   "execution_count": null,
   "id": "176294c6-14b6-4e44-9ec4-cd9fb9a82d0b",
   "metadata": {},
   "outputs": [],
   "source": [
    "#see which types of jobs are growing \n",
    "#segments of jobs \n",
    "#prefixspan\n",
    "#5 key words are they a good prediction of the data \n",
    "\n",
    "#glove embedding "
   ]
  }
 ],
 "metadata": {
  "kernelspec": {
   "display_name": "Python 3 (ipykernel)",
   "language": "python",
   "name": "python3"
  },
  "language_info": {
   "codemirror_mode": {
    "name": "ipython",
    "version": 3
   },
   "file_extension": ".py",
   "mimetype": "text/x-python",
   "name": "python",
   "nbconvert_exporter": "python",
   "pygments_lexer": "ipython3",
   "version": "3.11.5"
  }
 },
 "nbformat": 4,
 "nbformat_minor": 5
}
