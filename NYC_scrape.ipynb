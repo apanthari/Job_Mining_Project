{
 "cells": [
  {
   "cell_type": "code",
   "execution_count": null,
   "id": "28a29cde-9e92-495d-9119-c99394e2e81a",
   "metadata": {},
   "outputs": [],
   "source": [
    "pip install git+https://github.com/PaulMcInnis/JobFunnel.git"
   ]
  },
  {
   "cell_type": "code",
   "execution_count": null,
   "id": "2da0e75b-f96f-4b71-b8a6-f74bcc08da7c",
   "metadata": {},
   "outputs": [],
   "source": [
    "!pip install wget\n",
    "import wget"
   ]
  }
 ],
 "metadata": {
  "kernelspec": {
   "display_name": "Python 3 (ipykernel)",
   "language": "python",
   "name": "python3"
  },
  "language_info": {
   "codemirror_mode": {
    "name": "ipython",
    "version": 3
   },
   "file_extension": ".py",
   "mimetype": "text/x-python",
   "name": "python",
   "nbconvert_exporter": "python",
   "pygments_lexer": "ipython3",
   "version": "3.11.5"
  }
 },
 "nbformat": 4,
 "nbformat_minor": 5
}
