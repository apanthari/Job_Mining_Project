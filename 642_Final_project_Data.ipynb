{
 "cells": [
  {
   "cell_type": "code",
   "execution_count": 1,
   "id": "1f0f7272-a48a-41e8-ab53-0762a7b39c79",
   "metadata": {},
   "outputs": [
    {
     "name": "stdout",
     "output_type": "stream",
     "text": [
      "Collecting git+https://github.com/PaulMcInnis/JobFunnel.git\n",
      "  Cloning https://github.com/PaulMcInnis/JobFunnel.git to c:\\users\\panth\\appdata\\local\\temp\\pip-req-build-tmd9ub__\n",
      "  Resolved https://github.com/PaulMcInnis/JobFunnel.git to commit 493af1bbdc8b846b630a1b0e2cedb2eb02ab7f4d\n",
      "  Installing build dependencies: started\n",
      "  Installing build dependencies: finished with status 'done'\n",
      "  Getting requirements to build wheel: started\n",
      "  Getting requirements to build wheel: finished with status 'done'\n",
      "  Preparing metadata (pyproject.toml): started\n",
      "  Preparing metadata (pyproject.toml): finished with status 'done'\n",
      "Requirement already satisfied: beautifulsoup4>=4.6.3 in c:\\users\\panth\\anaconda3\\lib\\site-packages (from JobFunnel==4.0.0) (4.12.2)\n",
      "Requirement already satisfied: lxml>=4.2.4 in c:\\users\\panth\\anaconda3\\lib\\site-packages (from JobFunnel==4.0.0) (4.9.3)\n",
      "Requirement already satisfied: requests>=2.19.1 in c:\\users\\panth\\anaconda3\\lib\\site-packages (from JobFunnel==4.0.0) (2.31.0)\n",
      "Requirement already satisfied: python-dateutil>=2.8.0 in c:\\users\\panth\\anaconda3\\lib\\site-packages (from JobFunnel==4.0.0) (2.8.2)\n",
      "Requirement already satisfied: PyYAML>=5.1 in c:\\users\\panth\\anaconda3\\lib\\site-packages (from JobFunnel==4.0.0) (6.0.1)\n",
      "Requirement already satisfied: scikit-learn>=0.21.2 in c:\\users\\panth\\anaconda3\\lib\\site-packages (from JobFunnel==4.0.0) (1.2.2)\n",
      "Requirement already satisfied: nltk>=3.4.1 in c:\\users\\panth\\anaconda3\\lib\\site-packages (from JobFunnel==4.0.0) (3.8.1)\n",
      "Requirement already satisfied: scipy>=1.4.1 in c:\\users\\panth\\anaconda3\\lib\\site-packages (from JobFunnel==4.0.0) (1.11.4)\n",
      "Requirement already satisfied: selenium>=3.141.0 in c:\\users\\panth\\anaconda3\\lib\\site-packages (from JobFunnel==4.0.0) (4.25.0)\n",
      "Requirement already satisfied: webdriver-manager>=2.4.0 in c:\\users\\panth\\anaconda3\\lib\\site-packages (from JobFunnel==4.0.0) (4.0.2)\n",
      "Requirement already satisfied: Cerberus>=1.3.2 in c:\\users\\panth\\anaconda3\\lib\\site-packages (from JobFunnel==4.0.0) (1.3.5)\n",
      "Requirement already satisfied: tqdm>=4.47.0 in c:\\users\\panth\\anaconda3\\lib\\site-packages (from JobFunnel==4.0.0) (4.65.0)\n",
      "Requirement already satisfied: soupsieve>1.2 in c:\\users\\panth\\anaconda3\\lib\\site-packages (from beautifulsoup4>=4.6.3->JobFunnel==4.0.0) (2.5)\n",
      "Requirement already satisfied: click in c:\\users\\panth\\anaconda3\\lib\\site-packages (from nltk>=3.4.1->JobFunnel==4.0.0) (8.1.7)\n",
      "Requirement already satisfied: joblib in c:\\users\\panth\\anaconda3\\lib\\site-packages (from nltk>=3.4.1->JobFunnel==4.0.0) (1.2.0)\n",
      "Requirement already satisfied: regex>=2021.8.3 in c:\\users\\panth\\anaconda3\\lib\\site-packages (from nltk>=3.4.1->JobFunnel==4.0.0) (2023.10.3)\n",
      "Requirement already satisfied: six>=1.5 in c:\\users\\panth\\anaconda3\\lib\\site-packages (from python-dateutil>=2.8.0->JobFunnel==4.0.0) (1.16.0)\n",
      "Requirement already satisfied: charset-normalizer<4,>=2 in c:\\users\\panth\\anaconda3\\lib\\site-packages (from requests>=2.19.1->JobFunnel==4.0.0) (2.0.4)\n",
      "Requirement already satisfied: idna<4,>=2.5 in c:\\users\\panth\\anaconda3\\lib\\site-packages (from requests>=2.19.1->JobFunnel==4.0.0) (3.4)\n",
      "Requirement already satisfied: urllib3<3,>=1.21.1 in c:\\users\\panth\\anaconda3\\lib\\site-packages (from requests>=2.19.1->JobFunnel==4.0.0) (2.0.7)\n",
      "Requirement already satisfied: certifi>=2017.4.17 in c:\\users\\panth\\anaconda3\\lib\\site-packages (from requests>=2.19.1->JobFunnel==4.0.0) (2024.6.2)\n",
      "Requirement already satisfied: numpy>=1.17.3 in c:\\users\\panth\\anaconda3\\lib\\site-packages (from scikit-learn>=0.21.2->JobFunnel==4.0.0) (1.26.3)\n",
      "Requirement already satisfied: threadpoolctl>=2.0.0 in c:\\users\\panth\\anaconda3\\lib\\site-packages (from scikit-learn>=0.21.2->JobFunnel==4.0.0) (2.2.0)\n",
      "Requirement already satisfied: trio~=0.17 in c:\\users\\panth\\anaconda3\\lib\\site-packages (from selenium>=3.141.0->JobFunnel==4.0.0) (0.27.0)\n",
      "Requirement already satisfied: trio-websocket~=0.9 in c:\\users\\panth\\anaconda3\\lib\\site-packages (from selenium>=3.141.0->JobFunnel==4.0.0) (0.11.1)\n",
      "Requirement already satisfied: typing_extensions~=4.9 in c:\\users\\panth\\anaconda3\\lib\\site-packages (from selenium>=3.141.0->JobFunnel==4.0.0) (4.9.0)\n",
      "Requirement already satisfied: websocket-client~=1.8 in c:\\users\\panth\\anaconda3\\lib\\site-packages (from selenium>=3.141.0->JobFunnel==4.0.0) (1.8.0)\n",
      "Requirement already satisfied: colorama in c:\\users\\panth\\anaconda3\\lib\\site-packages (from tqdm>=4.47.0->JobFunnel==4.0.0) (0.4.6)\n",
      "Requirement already satisfied: python-dotenv in c:\\users\\panth\\anaconda3\\lib\\site-packages (from webdriver-manager>=2.4.0->JobFunnel==4.0.0) (0.21.0)\n",
      "Requirement already satisfied: packaging in c:\\users\\panth\\anaconda3\\lib\\site-packages (from webdriver-manager>=2.4.0->JobFunnel==4.0.0) (23.1)\n",
      "Requirement already satisfied: attrs>=23.2.0 in c:\\users\\panth\\anaconda3\\lib\\site-packages (from trio~=0.17->selenium>=3.141.0->JobFunnel==4.0.0) (24.2.0)\n",
      "Requirement already satisfied: sortedcontainers in c:\\users\\panth\\anaconda3\\lib\\site-packages (from trio~=0.17->selenium>=3.141.0->JobFunnel==4.0.0) (2.4.0)\n",
      "Requirement already satisfied: outcome in c:\\users\\panth\\anaconda3\\lib\\site-packages (from trio~=0.17->selenium>=3.141.0->JobFunnel==4.0.0) (1.3.0.post0)\n",
      "Requirement already satisfied: sniffio>=1.3.0 in c:\\users\\panth\\anaconda3\\lib\\site-packages (from trio~=0.17->selenium>=3.141.0->JobFunnel==4.0.0) (1.3.0)\n",
      "Requirement already satisfied: cffi>=1.14 in c:\\users\\panth\\anaconda3\\lib\\site-packages (from trio~=0.17->selenium>=3.141.0->JobFunnel==4.0.0) (1.16.0)\n",
      "Requirement already satisfied: wsproto>=0.14 in c:\\users\\panth\\anaconda3\\lib\\site-packages (from trio-websocket~=0.9->selenium>=3.141.0->JobFunnel==4.0.0) (1.2.0)\n",
      "Requirement already satisfied: pysocks!=1.5.7,<2.0,>=1.5.6 in c:\\users\\panth\\anaconda3\\lib\\site-packages (from urllib3[socks]<3,>=1.26->selenium>=3.141.0->JobFunnel==4.0.0) (1.7.1)\n",
      "Requirement already satisfied: pycparser in c:\\users\\panth\\anaconda3\\lib\\site-packages (from cffi>=1.14->trio~=0.17->selenium>=3.141.0->JobFunnel==4.0.0) (2.21)\n",
      "Requirement already satisfied: h11<1,>=0.9.0 in c:\\users\\panth\\anaconda3\\lib\\site-packages (from wsproto>=0.14->trio-websocket~=0.9->selenium>=3.141.0->JobFunnel==4.0.0) (0.14.0)\n",
      "Note: you may need to restart the kernel to use updated packages.\n"
     ]
    },
    {
     "name": "stderr",
     "output_type": "stream",
     "text": [
      "  Running command git clone --filter=blob:none --quiet https://github.com/PaulMcInnis/JobFunnel.git 'C:\\Users\\panth\\AppData\\Local\\Temp\\pip-req-build-tmd9ub__'\n"
     ]
    }
   ],
   "source": [
    "pip install git+https://github.com/PaulMcInnis/JobFunnel.git"
   ]
  },
  {
   "cell_type": "code",
   "execution_count": 2,
   "id": "6df2cfe1-9ce4-47c7-8654-2529cf2f127f",
   "metadata": {},
   "outputs": [
    {
     "name": "stdout",
     "output_type": "stream",
     "text": [
      "Requirement already satisfied: wget in c:\\users\\panth\\anaconda3\\lib\\site-packages (3.2)\n"
     ]
    }
   ],
   "source": [
    "!pip install wget\n",
    "import wget"
   ]
  },
  {
   "cell_type": "code",
   "execution_count": 3,
   "id": "c2c19102-66e6-4147-bf4e-835c23f28efe",
   "metadata": {},
   "outputs": [
    {
     "name": "stdout",
     "output_type": "stream",
     "text": [
      "Requirement already satisfied: pyyaml in c:\\users\\panth\\anaconda3\\lib\\site-packages (6.0.1)\n"
     ]
    }
   ],
   "source": [
    "!pip install pyyaml\n",
    "import yaml"
   ]
  },
  {
   "cell_type": "code",
   "execution_count": 4,
   "id": "c651843c-4c20-4551-be59-b02759dc6a48",
   "metadata": {},
   "outputs": [
    {
     "name": "stderr",
     "output_type": "stream",
     "text": [
      "--2024-10-30 14:14:01--  https://git.io/JUWeP\n",
      "Resolving git.io (git.io)... 140.82.113.21\n",
      "Connecting to git.io (git.io)|140.82.113.21|:443... connected.\n",
      "HTTP request sent, awaiting response... 301 Moved Permanently\n",
      "Location: https://raw.githubusercontent.com/PaulMcInnis/JobFunnel/master/demo/settings.yaml [following]\n",
      "--2024-10-30 14:14:02--  https://raw.githubusercontent.com/PaulMcInnis/JobFunnel/master/demo/settings.yaml\n",
      "Resolving raw.githubusercontent.com (raw.githubusercontent.com)... 185.199.109.133, 185.199.110.133, 185.199.111.133, ...\n",
      "Connecting to raw.githubusercontent.com (raw.githubusercontent.com)|185.199.109.133|:443... connected.\n",
      "HTTP request sent, awaiting response... 200 OK\n",
      "Length: 2381 (2.3K) [text/plain]\n",
      "Saving to: 'my_settings.yaml'\n",
      "\n",
      "     0K ..                                                    100%  437K=0.005s\n",
      "\n",
      "2024-10-30 14:14:02 (437 KB/s) - 'my_settings.yaml' saved [2381/2381]\n",
      "\n"
     ]
    }
   ],
   "source": [
    "!wget https://git.io/JUWeP -O my_settings.yaml"
   ]
  },
  {
   "cell_type": "code",
   "execution_count": 5,
   "id": "be3b48e7-18b5-4889-aabb-5b949f858f33",
   "metadata": {},
   "outputs": [
    {
     "name": "stdout",
     "output_type": "stream",
     "text": [
      "[2024-10-30 14:14:10,959] [INFO] JobFunnel: Scraping local providers with: ['IndeedScraperCANEng', 'MonsterScraperCANEng']\n",
      "[2024-10-30 14:14:13,611] [INFO] IndeedScraperCANEng: Found 5 pages of search results for query=Python\n",
      "[2024-10-30 14:14:17,346] [INFO] IndeedScraperCANEng: Scraped 125 job listings from search results pages\n",
      "[2024-10-30 14:14:17,452] [ERROR] IndeedScraperCANEng: Job Sr Software Development Engineer in Test and Sr Software Development Engineer in Test share duplicate key_id: IndeedScraperCANEng_f1a127d62c4f1968\n",
      "[2024-10-30 14:14:17,486] [INFO] MonsterScraperCANEng: No get() or set() will be done for Job attrs: ['REMOTENESS']\n",
      "[2024-10-30 14:14:19,743] [ERROR] JobFunnel: Failed to scrape jobs for MonsterScraperCANEng: Unable to extract jobs from initial search result page:\n",
      "\t'NoneType' object has no attribute 'text'\n",
      "[2024-10-30 14:14:19,743] [INFO] JobFunnel: Completed all scraping, found 124 new jobs.\n",
      "[2024-10-30 14:14:19,841] [INFO] JobFunnel: Done. View your current jobs in demo_job_search_results/demo_search.csv\n"
     ]
    },
    {
     "name": "stderr",
     "output_type": "stream",
     "text": [
      "\n",
      "  0%|          | 0/125 [00:00<?, ?it/s]\n",
      "100%|##########| 125/125 [00:00<00:00, 4623.23it/s]\n"
     ]
    }
   ],
   "source": [
    "!funnel load -s my_settings.yaml"
   ]
  },
  {
   "cell_type": "code",
   "execution_count": null,
   "id": "f7810574-ce5e-4664-b219-7663edf9bb09",
   "metadata": {},
   "outputs": [],
   "source": []
  }
 ],
 "metadata": {
  "kernelspec": {
   "display_name": "Python 3 (ipykernel)",
   "language": "python",
   "name": "python3"
  },
  "language_info": {
   "codemirror_mode": {
    "name": "ipython",
    "version": 3
   },
   "file_extension": ".py",
   "mimetype": "text/x-python",
   "name": "python",
   "nbconvert_exporter": "python",
   "pygments_lexer": "ipython3",
   "version": "3.11.5"
  }
 },
 "nbformat": 4,
 "nbformat_minor": 5
}
