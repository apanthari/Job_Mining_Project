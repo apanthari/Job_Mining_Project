{
 "cells": [
  {
   "cell_type": "code",
   "execution_count": 6,
   "id": "e265d204-7d48-4ecf-a846-bd732b4ca6da",
   "metadata": {},
   "outputs": [
    {
     "name": "stdout",
     "output_type": "stream",
     "text": [
      "Collecting git+https://github.com/PaulMcInnis/JobFunnel.git\n",
      "  Cloning https://github.com/PaulMcInnis/JobFunnel.git to c:\\users\\panth\\appdata\\local\\temp\\pip-req-build-i2fa6qsk\n",
      "  Resolved https://github.com/PaulMcInnis/JobFunnel.git to commit 493af1bbdc8b846b630a1b0e2cedb2eb02ab7f4d\n",
      "  Installing build dependencies: started\n",
      "  Installing build dependencies: finished with status 'done'\n",
      "  Getting requirements to build wheel: started\n",
      "  Getting requirements to build wheel: finished with status 'done'\n",
      "  Preparing metadata (pyproject.toml): started\n",
      "  Preparing metadata (pyproject.toml): finished with status 'done'\n",
      "Requirement already satisfied: beautifulsoup4>=4.6.3 in c:\\users\\panth\\anaconda3\\lib\\site-packages (from JobFunnel==4.0.0) (4.12.2)\n",
      "Requirement already satisfied: lxml>=4.2.4 in c:\\users\\panth\\anaconda3\\lib\\site-packages (from JobFunnel==4.0.0) (4.9.3)\n",
      "Requirement already satisfied: requests>=2.19.1 in c:\\users\\panth\\anaconda3\\lib\\site-packages (from JobFunnel==4.0.0) (2.31.0)\n",
      "Requirement already satisfied: python-dateutil>=2.8.0 in c:\\users\\panth\\anaconda3\\lib\\site-packages (from JobFunnel==4.0.0) (2.8.2)\n",
      "Requirement already satisfied: PyYAML>=5.1 in c:\\users\\panth\\anaconda3\\lib\\site-packages (from JobFunnel==4.0.0) (6.0.1)\n",
      "Requirement already satisfied: scikit-learn>=0.21.2 in c:\\users\\panth\\anaconda3\\lib\\site-packages (from JobFunnel==4.0.0) (1.2.2)\n",
      "Requirement already satisfied: nltk>=3.4.1 in c:\\users\\panth\\anaconda3\\lib\\site-packages (from JobFunnel==4.0.0) (3.8.1)\n",
      "Requirement already satisfied: scipy>=1.4.1 in c:\\users\\panth\\anaconda3\\lib\\site-packages (from JobFunnel==4.0.0) (1.11.4)\n",
      "Requirement already satisfied: selenium>=3.141.0 in c:\\users\\panth\\anaconda3\\lib\\site-packages (from JobFunnel==4.0.0) (4.25.0)\n",
      "Requirement already satisfied: webdriver-manager>=2.4.0 in c:\\users\\panth\\anaconda3\\lib\\site-packages (from JobFunnel==4.0.0) (4.0.2)\n",
      "Requirement already satisfied: Cerberus>=1.3.2 in c:\\users\\panth\\anaconda3\\lib\\site-packages (from JobFunnel==4.0.0) (1.3.5)\n",
      "Requirement already satisfied: tqdm>=4.47.0 in c:\\users\\panth\\anaconda3\\lib\\site-packages (from JobFunnel==4.0.0) (4.65.0)\n",
      "Requirement already satisfied: soupsieve>1.2 in c:\\users\\panth\\anaconda3\\lib\\site-packages (from beautifulsoup4>=4.6.3->JobFunnel==4.0.0) (2.5)\n",
      "Requirement already satisfied: click in c:\\users\\panth\\anaconda3\\lib\\site-packages (from nltk>=3.4.1->JobFunnel==4.0.0) (8.1.7)\n",
      "Requirement already satisfied: joblib in c:\\users\\panth\\anaconda3\\lib\\site-packages (from nltk>=3.4.1->JobFunnel==4.0.0) (1.2.0)\n",
      "Requirement already satisfied: regex>=2021.8.3 in c:\\users\\panth\\anaconda3\\lib\\site-packages (from nltk>=3.4.1->JobFunnel==4.0.0) (2023.10.3)\n",
      "Requirement already satisfied: six>=1.5 in c:\\users\\panth\\anaconda3\\lib\\site-packages (from python-dateutil>=2.8.0->JobFunnel==4.0.0) (1.16.0)\n",
      "Requirement already satisfied: charset-normalizer<4,>=2 in c:\\users\\panth\\anaconda3\\lib\\site-packages (from requests>=2.19.1->JobFunnel==4.0.0) (2.0.4)\n",
      "Requirement already satisfied: idna<4,>=2.5 in c:\\users\\panth\\anaconda3\\lib\\site-packages (from requests>=2.19.1->JobFunnel==4.0.0) (3.4)\n",
      "Requirement already satisfied: urllib3<3,>=1.21.1 in c:\\users\\panth\\anaconda3\\lib\\site-packages (from requests>=2.19.1->JobFunnel==4.0.0) (2.0.7)\n",
      "Requirement already satisfied: certifi>=2017.4.17 in c:\\users\\panth\\anaconda3\\lib\\site-packages (from requests>=2.19.1->JobFunnel==4.0.0) (2024.6.2)\n",
      "Requirement already satisfied: numpy>=1.17.3 in c:\\users\\panth\\anaconda3\\lib\\site-packages (from scikit-learn>=0.21.2->JobFunnel==4.0.0) (1.26.3)\n",
      "Requirement already satisfied: threadpoolctl>=2.0.0 in c:\\users\\panth\\anaconda3\\lib\\site-packages (from scikit-learn>=0.21.2->JobFunnel==4.0.0) (2.2.0)\n",
      "Requirement already satisfied: trio~=0.17 in c:\\users\\panth\\anaconda3\\lib\\site-packages (from selenium>=3.141.0->JobFunnel==4.0.0) (0.27.0)\n",
      "Requirement already satisfied: trio-websocket~=0.9 in c:\\users\\panth\\anaconda3\\lib\\site-packages (from selenium>=3.141.0->JobFunnel==4.0.0) (0.11.1)\n",
      "Requirement already satisfied: typing_extensions~=4.9 in c:\\users\\panth\\anaconda3\\lib\\site-packages (from selenium>=3.141.0->JobFunnel==4.0.0) (4.9.0)\n",
      "Requirement already satisfied: websocket-client~=1.8 in c:\\users\\panth\\anaconda3\\lib\\site-packages (from selenium>=3.141.0->JobFunnel==4.0.0) (1.8.0)\n",
      "Requirement already satisfied: colorama in c:\\users\\panth\\anaconda3\\lib\\site-packages (from tqdm>=4.47.0->JobFunnel==4.0.0) (0.4.6)\n",
      "Requirement already satisfied: python-dotenv in c:\\users\\panth\\anaconda3\\lib\\site-packages (from webdriver-manager>=2.4.0->JobFunnel==4.0.0) (0.21.0)\n",
      "Requirement already satisfied: packaging in c:\\users\\panth\\anaconda3\\lib\\site-packages (from webdriver-manager>=2.4.0->JobFunnel==4.0.0) (23.1)\n",
      "Requirement already satisfied: attrs>=23.2.0 in c:\\users\\panth\\anaconda3\\lib\\site-packages (from trio~=0.17->selenium>=3.141.0->JobFunnel==4.0.0) (24.2.0)\n",
      "Requirement already satisfied: sortedcontainers in c:\\users\\panth\\anaconda3\\lib\\site-packages (from trio~=0.17->selenium>=3.141.0->JobFunnel==4.0.0) (2.4.0)\n",
      "Requirement already satisfied: outcome in c:\\users\\panth\\anaconda3\\lib\\site-packages (from trio~=0.17->selenium>=3.141.0->JobFunnel==4.0.0) (1.3.0.post0)\n",
      "Requirement already satisfied: sniffio>=1.3.0 in c:\\users\\panth\\anaconda3\\lib\\site-packages (from trio~=0.17->selenium>=3.141.0->JobFunnel==4.0.0) (1.3.0)\n",
      "Requirement already satisfied: cffi>=1.14 in c:\\users\\panth\\anaconda3\\lib\\site-packages (from trio~=0.17->selenium>=3.141.0->JobFunnel==4.0.0) (1.16.0)\n",
      "Requirement already satisfied: wsproto>=0.14 in c:\\users\\panth\\anaconda3\\lib\\site-packages (from trio-websocket~=0.9->selenium>=3.141.0->JobFunnel==4.0.0) (1.2.0)\n",
      "Requirement already satisfied: pysocks!=1.5.7,<2.0,>=1.5.6 in c:\\users\\panth\\anaconda3\\lib\\site-packages (from urllib3[socks]<3,>=1.26->selenium>=3.141.0->JobFunnel==4.0.0) (1.7.1)\n",
      "Requirement already satisfied: pycparser in c:\\users\\panth\\anaconda3\\lib\\site-packages (from cffi>=1.14->trio~=0.17->selenium>=3.141.0->JobFunnel==4.0.0) (2.21)\n",
      "Requirement already satisfied: h11<1,>=0.9.0 in c:\\users\\panth\\anaconda3\\lib\\site-packages (from wsproto>=0.14->trio-websocket~=0.9->selenium>=3.141.0->JobFunnel==4.0.0) (0.14.0)\n",
      "Note: you may need to restart the kernel to use updated packages.\n"
     ]
    },
    {
     "name": "stderr",
     "output_type": "stream",
     "text": [
      "  Running command git clone --filter=blob:none --quiet https://github.com/PaulMcInnis/JobFunnel.git 'C:\\Users\\panth\\AppData\\Local\\Temp\\pip-req-build-i2fa6qsk'\n"
     ]
    }
   ],
   "source": [
    "pip install git+https://github.com/PaulMcInnis/JobFunnel.git"
   ]
  },
  {
   "cell_type": "code",
   "execution_count": 7,
   "id": "ca1d63d9-db89-47ac-a146-5cd1c9803fc6",
   "metadata": {},
   "outputs": [
    {
     "name": "stdout",
     "output_type": "stream",
     "text": [
      "Requirement already satisfied: wget in c:\\users\\panth\\anaconda3\\lib\\site-packages (3.2)\n"
     ]
    }
   ],
   "source": [
    "!pip install wget\n",
    "import wget"
   ]
  },
  {
   "cell_type": "code",
   "execution_count": 8,
   "id": "ccd9bd1f-2dfc-4774-bfd6-e06a7b40dabe",
   "metadata": {},
   "outputs": [
    {
     "name": "stdout",
     "output_type": "stream",
     "text": [
      "Requirement already satisfied: pyyaml in c:\\users\\panth\\anaconda3\\lib\\site-packages (6.0.1)\n"
     ]
    }
   ],
   "source": [
    "!pip install pyyaml\n",
    "import yaml"
   ]
  },
  {
   "cell_type": "code",
   "execution_count": 9,
   "id": "2e513a7d-3164-4c43-8baa-ed13eaf16c15",
   "metadata": {},
   "outputs": [
    {
     "name": "stderr",
     "output_type": "stream",
     "text": [
      "--2024-11-01 14:36:30--  https://git.io/JUWeP\n",
      "Resolving git.io (git.io)... 140.82.112.22\n",
      "Connecting to git.io (git.io)|140.82.112.22|:443... connected.\n",
      "HTTP request sent, awaiting response... 301 Moved Permanently\n",
      "Location: https://raw.githubusercontent.com/PaulMcInnis/JobFunnel/master/demo/settings.yaml [following]\n",
      "--2024-11-01 14:36:30--  https://raw.githubusercontent.com/PaulMcInnis/JobFunnel/master/demo/settings.yaml\n",
      "Resolving raw.githubusercontent.com (raw.githubusercontent.com)... 185.199.109.133, 185.199.108.133, 185.199.111.133, ...\n",
      "Connecting to raw.githubusercontent.com (raw.githubusercontent.com)|185.199.109.133|:443... connected.\n",
      "HTTP request sent, awaiting response... 200 OK\n",
      "Length: 2381 (2.3K) [text/plain]\n",
      "Saving to: 'my_settings.yaml'\n",
      "\n",
      "     0K ..                                                    100%  465K=0.005s\n",
      "\n",
      "2024-11-01 14:36:31 (465 KB/s) - 'my_settings.yaml' saved [2381/2381]\n",
      "\n"
     ]
    }
   ],
   "source": [
    "!wget https://git.io/JUWeP -O my_settings.yaml"
   ]
  },
  {
   "cell_type": "code",
   "execution_count": 10,
   "id": "2990a72e-3f19-4d17-a0b8-3e67d2929ba1",
   "metadata": {},
   "outputs": [
    {
     "name": "stdout",
     "output_type": "stream",
     "text": [
      "[2024-11-01 14:36:33,484] [INFO] JobFunnel: Scraping local providers with: ['IndeedScraperCANEng', 'MonsterScraperCANEng']\n",
      "[2024-11-01 14:36:35,676] [INFO] IndeedScraperCANEng: Found 5 pages of search results for query=Python\n",
      "[2024-11-01 14:36:39,350] [INFO] IndeedScraperCANEng: Scraped 125 job listings from search results pages\n",
      "[2024-11-01 14:36:39,473] [ERROR] IndeedScraperCANEng: Job Omniverse Testing Coordinator Co-op and Omniverse Testing Coordinator Co-op share duplicate key_id: IndeedScraperCANEng_df8ee884f6b26be7\n",
      "[2024-11-01 14:36:39,511] [ERROR] IndeedScraperCANEng: Job Remote Coding Expertise for AI Training - Tier 2 and Remote Coding Expertise for AI Training - Tier 2 share duplicate key_id: IndeedScraperCANEng_13572633ab55538b\n",
      "[2024-11-01 14:36:39,551] [INFO] MonsterScraperCANEng: No get() or set() will be done for Job attrs: ['REMOTENESS']\n",
      "[2024-11-01 14:36:40,864] [ERROR] JobFunnel: Failed to scrape jobs for MonsterScraperCANEng: Unable to extract jobs from initial search result page:\n",
      "\t'NoneType' object has no attribute 'text'\n",
      "[2024-11-01 14:36:40,864] [INFO] JobFunnel: Completed all scraping, found 123 new jobs.\n",
      "[2024-11-01 14:36:40,895] [INFO] JobFunnel: Done. View your current jobs in demo_job_search_results/demo_search.csv\n"
     ]
    },
    {
     "name": "stderr",
     "output_type": "stream",
     "text": [
      "\n",
      "  0%|          | 0/125 [00:00<?, ?it/s]\n",
      "100%|##########| 125/125 [00:00<00:00, 2992.94it/s]\n"
     ]
    }
   ],
   "source": [
    "!funnel load -s my_settings.yaml"
   ]
  },
  {
   "cell_type": "code",
   "execution_count": 11,
   "id": "1b0e4a76-bc10-41c3-b534-3416bf6613c4",
   "metadata": {},
   "outputs": [
    {
     "name": "stderr",
     "output_type": "stream",
     "text": [
      "--2024-11-01 14:38:20--  https://raw.githubusercontent.com/apanthari/Job_Mining_Project/refs/heads/main/Data_Query.yaml\n",
      "Resolving raw.githubusercontent.com (raw.githubusercontent.com)... 185.199.109.133, 185.199.108.133, 185.199.111.133, ...\n",
      "Connecting to raw.githubusercontent.com (raw.githubusercontent.com)|185.199.109.133|:443... connected.\n",
      "HTTP request sent, awaiting response... 200 OK\n",
      "Length: 2324 (2.3K) [text/plain]\n",
      "Saving to: 'USA_Jobs.yaml'\n",
      "\n",
      "     0K ..                                                    100%  278K=0.008s\n",
      "\n",
      "2024-11-01 14:38:20 (278 KB/s) - 'USA_Jobs.yaml' saved [2324/2324]\n",
      "\n"
     ]
    }
   ],
   "source": [
    "!wget https://raw.githubusercontent.com/apanthari/Job_Mining_Project/refs/heads/main/Data_Query.yaml -O USA_Jobs.yaml"
   ]
  },
  {
   "cell_type": "code",
   "execution_count": 12,
   "id": "6944ce30-fd05-42c9-8949-56078e83e2c6",
   "metadata": {},
   "outputs": [
    {
     "name": "stderr",
     "output_type": "stream",
     "text": [
      "Traceback (most recent call last):\n",
      "  File \"<frozen runpy>\", line 198, in _run_module_as_main\n",
      "  File \"<frozen runpy>\", line 88, in _run_code\n",
      "  File \"C:\\Users\\panth\\anaconda3\\Scripts\\funnel.exe\\__main__.py\", line 7, in <module>\n",
      "  File \"C:\\Users\\panth\\anaconda3\\Lib\\site-packages\\jobfunnel\\__main__.py\", line 15, in main\n",
      "    cfg_dict = build_config_dict(args)\n",
      "               ^^^^^^^^^^^^^^^^^^^^^^^\n",
      "  File \"C:\\Users\\panth\\anaconda3\\Lib\\site-packages\\jobfunnel\\config\\cli.py\", line 337, in build_config_dict\n",
      "    raise ValueError(\n",
      "ValueError: Invalid Config settings yaml:\n",
      "{'search': [{'log_level': ['unknown field']}]}\n"
     ]
    }
   ],
   "source": [
    "!funnel load -s USA_Jobs.yaml"
   ]
  },
  {
   "cell_type": "code",
   "execution_count": null,
   "id": "8fc633e1-bd73-45fd-8b4d-abe0ae24ae8f",
   "metadata": {},
   "outputs": [],
   "source": []
  }
 ],
 "metadata": {
  "kernelspec": {
   "display_name": "Python 3 (ipykernel)",
   "language": "python",
   "name": "python3"
  },
  "language_info": {
   "codemirror_mode": {
    "name": "ipython",
    "version": 3
   },
   "file_extension": ".py",
   "mimetype": "text/x-python",
   "name": "python",
   "nbconvert_exporter": "python",
   "pygments_lexer": "ipython3",
   "version": "3.11.5"
  }
 },
 "nbformat": 4,
 "nbformat_minor": 5
}
