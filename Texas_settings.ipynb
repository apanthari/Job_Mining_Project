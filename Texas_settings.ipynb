{
 "cells": [
  {
   "cell_type": "code",
   "execution_count": 19,
   "id": "e265d204-7d48-4ecf-a846-bd732b4ca6da",
   "metadata": {},
   "outputs": [
    {
     "name": "stdout",
     "output_type": "stream",
     "text": [
      "Collecting git+https://github.com/PaulMcInnis/JobFunnel.git\n",
      "  Cloning https://github.com/PaulMcInnis/JobFunnel.git to c:\\users\\panth\\appdata\\local\\temp\\pip-req-build-ouwoda2v\n",
      "  Resolved https://github.com/PaulMcInnis/JobFunnel.git to commit 493af1bbdc8b846b630a1b0e2cedb2eb02ab7f4d\n",
      "  Installing build dependencies: started\n",
      "  Installing build dependencies: finished with status 'done'\n",
      "  Getting requirements to build wheel: started\n",
      "  Getting requirements to build wheel: finished with status 'done'\n",
      "  Preparing metadata (pyproject.toml): started\n",
      "  Preparing metadata (pyproject.toml): finished with status 'done'\n",
      "Requirement already satisfied: beautifulsoup4>=4.6.3 in c:\\users\\panth\\anaconda3\\lib\\site-packages (from JobFunnel==4.0.0) (4.12.2)\n",
      "Requirement already satisfied: lxml>=4.2.4 in c:\\users\\panth\\anaconda3\\lib\\site-packages (from JobFunnel==4.0.0) (4.9.3)\n",
      "Requirement already satisfied: requests>=2.19.1 in c:\\users\\panth\\anaconda3\\lib\\site-packages (from JobFunnel==4.0.0) (2.31.0)\n",
      "Requirement already satisfied: python-dateutil>=2.8.0 in c:\\users\\panth\\anaconda3\\lib\\site-packages (from JobFunnel==4.0.0) (2.8.2)\n",
      "Requirement already satisfied: PyYAML>=5.1 in c:\\users\\panth\\anaconda3\\lib\\site-packages (from JobFunnel==4.0.0) (6.0.1)\n",
      "Requirement already satisfied: scikit-learn>=0.21.2 in c:\\users\\panth\\anaconda3\\lib\\site-packages (from JobFunnel==4.0.0) (1.2.2)\n",
      "Requirement already satisfied: nltk>=3.4.1 in c:\\users\\panth\\anaconda3\\lib\\site-packages (from JobFunnel==4.0.0) (3.8.1)\n",
      "Requirement already satisfied: scipy>=1.4.1 in c:\\users\\panth\\anaconda3\\lib\\site-packages (from JobFunnel==4.0.0) (1.11.4)\n",
      "Requirement already satisfied: selenium>=3.141.0 in c:\\users\\panth\\anaconda3\\lib\\site-packages (from JobFunnel==4.0.0) (4.25.0)\n",
      "Requirement already satisfied: webdriver-manager>=2.4.0 in c:\\users\\panth\\anaconda3\\lib\\site-packages (from JobFunnel==4.0.0) (4.0.2)\n",
      "Requirement already satisfied: Cerberus>=1.3.2 in c:\\users\\panth\\anaconda3\\lib\\site-packages (from JobFunnel==4.0.0) (1.3.5)\n",
      "Requirement already satisfied: tqdm>=4.47.0 in c:\\users\\panth\\anaconda3\\lib\\site-packages (from JobFunnel==4.0.0) (4.65.0)\n",
      "Requirement already satisfied: soupsieve>1.2 in c:\\users\\panth\\anaconda3\\lib\\site-packages (from beautifulsoup4>=4.6.3->JobFunnel==4.0.0) (2.5)\n",
      "Requirement already satisfied: click in c:\\users\\panth\\anaconda3\\lib\\site-packages (from nltk>=3.4.1->JobFunnel==4.0.0) (8.1.7)\n",
      "Requirement already satisfied: joblib in c:\\users\\panth\\anaconda3\\lib\\site-packages (from nltk>=3.4.1->JobFunnel==4.0.0) (1.2.0)\n",
      "Requirement already satisfied: regex>=2021.8.3 in c:\\users\\panth\\anaconda3\\lib\\site-packages (from nltk>=3.4.1->JobFunnel==4.0.0) (2023.10.3)\n",
      "Requirement already satisfied: six>=1.5 in c:\\users\\panth\\anaconda3\\lib\\site-packages (from python-dateutil>=2.8.0->JobFunnel==4.0.0) (1.16.0)\n",
      "Requirement already satisfied: charset-normalizer<4,>=2 in c:\\users\\panth\\anaconda3\\lib\\site-packages (from requests>=2.19.1->JobFunnel==4.0.0) (2.0.4)\n",
      "Requirement already satisfied: idna<4,>=2.5 in c:\\users\\panth\\anaconda3\\lib\\site-packages (from requests>=2.19.1->JobFunnel==4.0.0) (3.4)\n",
      "Requirement already satisfied: urllib3<3,>=1.21.1 in c:\\users\\panth\\anaconda3\\lib\\site-packages (from requests>=2.19.1->JobFunnel==4.0.0) (2.0.7)\n",
      "Requirement already satisfied: certifi>=2017.4.17 in c:\\users\\panth\\anaconda3\\lib\\site-packages (from requests>=2.19.1->JobFunnel==4.0.0) (2024.6.2)\n",
      "Requirement already satisfied: numpy>=1.17.3 in c:\\users\\panth\\anaconda3\\lib\\site-packages (from scikit-learn>=0.21.2->JobFunnel==4.0.0) (1.26.3)\n",
      "Requirement already satisfied: threadpoolctl>=2.0.0 in c:\\users\\panth\\anaconda3\\lib\\site-packages (from scikit-learn>=0.21.2->JobFunnel==4.0.0) (2.2.0)\n",
      "Requirement already satisfied: trio~=0.17 in c:\\users\\panth\\anaconda3\\lib\\site-packages (from selenium>=3.141.0->JobFunnel==4.0.0) (0.27.0)\n",
      "Requirement already satisfied: trio-websocket~=0.9 in c:\\users\\panth\\anaconda3\\lib\\site-packages (from selenium>=3.141.0->JobFunnel==4.0.0) (0.11.1)\n",
      "Requirement already satisfied: typing_extensions~=4.9 in c:\\users\\panth\\anaconda3\\lib\\site-packages (from selenium>=3.141.0->JobFunnel==4.0.0) (4.9.0)\n",
      "Requirement already satisfied: websocket-client~=1.8 in c:\\users\\panth\\anaconda3\\lib\\site-packages (from selenium>=3.141.0->JobFunnel==4.0.0) (1.8.0)\n",
      "Requirement already satisfied: colorama in c:\\users\\panth\\anaconda3\\lib\\site-packages (from tqdm>=4.47.0->JobFunnel==4.0.0) (0.4.6)\n",
      "Requirement already satisfied: python-dotenv in c:\\users\\panth\\anaconda3\\lib\\site-packages (from webdriver-manager>=2.4.0->JobFunnel==4.0.0) (0.21.0)\n",
      "Requirement already satisfied: packaging in c:\\users\\panth\\anaconda3\\lib\\site-packages (from webdriver-manager>=2.4.0->JobFunnel==4.0.0) (23.1)\n",
      "Requirement already satisfied: attrs>=23.2.0 in c:\\users\\panth\\anaconda3\\lib\\site-packages (from trio~=0.17->selenium>=3.141.0->JobFunnel==4.0.0) (24.2.0)\n",
      "Requirement already satisfied: sortedcontainers in c:\\users\\panth\\anaconda3\\lib\\site-packages (from trio~=0.17->selenium>=3.141.0->JobFunnel==4.0.0) (2.4.0)\n",
      "Requirement already satisfied: outcome in c:\\users\\panth\\anaconda3\\lib\\site-packages (from trio~=0.17->selenium>=3.141.0->JobFunnel==4.0.0) (1.3.0.post0)\n",
      "Requirement already satisfied: sniffio>=1.3.0 in c:\\users\\panth\\anaconda3\\lib\\site-packages (from trio~=0.17->selenium>=3.141.0->JobFunnel==4.0.0) (1.3.0)\n",
      "Requirement already satisfied: cffi>=1.14 in c:\\users\\panth\\anaconda3\\lib\\site-packages (from trio~=0.17->selenium>=3.141.0->JobFunnel==4.0.0) (1.16.0)\n",
      "Requirement already satisfied: wsproto>=0.14 in c:\\users\\panth\\anaconda3\\lib\\site-packages (from trio-websocket~=0.9->selenium>=3.141.0->JobFunnel==4.0.0) (1.2.0)\n",
      "Requirement already satisfied: pysocks!=1.5.7,<2.0,>=1.5.6 in c:\\users\\panth\\anaconda3\\lib\\site-packages (from urllib3[socks]<3,>=1.26->selenium>=3.141.0->JobFunnel==4.0.0) (1.7.1)\n",
      "Requirement already satisfied: pycparser in c:\\users\\panth\\anaconda3\\lib\\site-packages (from cffi>=1.14->trio~=0.17->selenium>=3.141.0->JobFunnel==4.0.0) (2.21)\n",
      "Requirement already satisfied: h11<1,>=0.9.0 in c:\\users\\panth\\anaconda3\\lib\\site-packages (from wsproto>=0.14->trio-websocket~=0.9->selenium>=3.141.0->JobFunnel==4.0.0) (0.14.0)\n",
      "Note: you may need to restart the kernel to use updated packages.\n"
     ]
    },
    {
     "name": "stderr",
     "output_type": "stream",
     "text": [
      "  Running command git clone --filter=blob:none --quiet https://github.com/PaulMcInnis/JobFunnel.git 'C:\\Users\\panth\\AppData\\Local\\Temp\\pip-req-build-ouwoda2v'\n"
     ]
    }
   ],
   "source": [
    "pip install git+https://github.com/PaulMcInnis/JobFunnel.git"
   ]
  },
  {
   "cell_type": "code",
   "execution_count": 20,
   "id": "ca1d63d9-db89-47ac-a146-5cd1c9803fc6",
   "metadata": {},
   "outputs": [
    {
     "name": "stdout",
     "output_type": "stream",
     "text": [
      "Requirement already satisfied: wget in c:\\users\\panth\\anaconda3\\lib\\site-packages (3.2)\n"
     ]
    }
   ],
   "source": [
    "!pip install wget\n",
    "import wget"
   ]
  },
  {
   "cell_type": "code",
   "execution_count": 21,
   "id": "ccd9bd1f-2dfc-4774-bfd6-e06a7b40dabe",
   "metadata": {},
   "outputs": [
    {
     "name": "stdout",
     "output_type": "stream",
     "text": [
      "Requirement already satisfied: pyyaml in c:\\users\\panth\\anaconda3\\lib\\site-packages (6.0.1)\n"
     ]
    }
   ],
   "source": [
    "!pip install pyyaml\n",
    "import yaml"
   ]
  },
  {
   "cell_type": "code",
   "execution_count": 9,
   "id": "2e513a7d-3164-4c43-8baa-ed13eaf16c15",
   "metadata": {},
   "outputs": [
    {
     "name": "stderr",
     "output_type": "stream",
     "text": [
      "--2024-11-01 14:36:30--  https://git.io/JUWeP\n",
      "Resolving git.io (git.io)... 140.82.112.22\n",
      "Connecting to git.io (git.io)|140.82.112.22|:443... connected.\n",
      "HTTP request sent, awaiting response... 301 Moved Permanently\n",
      "Location: https://raw.githubusercontent.com/PaulMcInnis/JobFunnel/master/demo/settings.yaml [following]\n",
      "--2024-11-01 14:36:30--  https://raw.githubusercontent.com/PaulMcInnis/JobFunnel/master/demo/settings.yaml\n",
      "Resolving raw.githubusercontent.com (raw.githubusercontent.com)... 185.199.109.133, 185.199.108.133, 185.199.111.133, ...\n",
      "Connecting to raw.githubusercontent.com (raw.githubusercontent.com)|185.199.109.133|:443... connected.\n",
      "HTTP request sent, awaiting response... 200 OK\n",
      "Length: 2381 (2.3K) [text/plain]\n",
      "Saving to: 'my_settings.yaml'\n",
      "\n",
      "     0K ..                                                    100%  465K=0.005s\n",
      "\n",
      "2024-11-01 14:36:31 (465 KB/s) - 'my_settings.yaml' saved [2381/2381]\n",
      "\n"
     ]
    }
   ],
   "source": [
    "!wget https://git.io/JUWeP -O my_settings.yaml"
   ]
  },
  {
   "cell_type": "code",
   "execution_count": 10,
   "id": "2990a72e-3f19-4d17-a0b8-3e67d2929ba1",
   "metadata": {},
   "outputs": [
    {
     "name": "stdout",
     "output_type": "stream",
     "text": [
      "[2024-11-01 14:36:33,484] [INFO] JobFunnel: Scraping local providers with: ['IndeedScraperCANEng', 'MonsterScraperCANEng']\n",
      "[2024-11-01 14:36:35,676] [INFO] IndeedScraperCANEng: Found 5 pages of search results for query=Python\n",
      "[2024-11-01 14:36:39,350] [INFO] IndeedScraperCANEng: Scraped 125 job listings from search results pages\n",
      "[2024-11-01 14:36:39,473] [ERROR] IndeedScraperCANEng: Job Omniverse Testing Coordinator Co-op and Omniverse Testing Coordinator Co-op share duplicate key_id: IndeedScraperCANEng_df8ee884f6b26be7\n",
      "[2024-11-01 14:36:39,511] [ERROR] IndeedScraperCANEng: Job Remote Coding Expertise for AI Training - Tier 2 and Remote Coding Expertise for AI Training - Tier 2 share duplicate key_id: IndeedScraperCANEng_13572633ab55538b\n",
      "[2024-11-01 14:36:39,551] [INFO] MonsterScraperCANEng: No get() or set() will be done for Job attrs: ['REMOTENESS']\n",
      "[2024-11-01 14:36:40,864] [ERROR] JobFunnel: Failed to scrape jobs for MonsterScraperCANEng: Unable to extract jobs from initial search result page:\n",
      "\t'NoneType' object has no attribute 'text'\n",
      "[2024-11-01 14:36:40,864] [INFO] JobFunnel: Completed all scraping, found 123 new jobs.\n",
      "[2024-11-01 14:36:40,895] [INFO] JobFunnel: Done. View your current jobs in demo_job_search_results/demo_search.csv\n"
     ]
    },
    {
     "name": "stderr",
     "output_type": "stream",
     "text": [
      "\n",
      "  0%|          | 0/125 [00:00<?, ?it/s]\n",
      "100%|##########| 125/125 [00:00<00:00, 2992.94it/s]\n"
     ]
    }
   ],
   "source": [
    "!funnel load -s my_settings.yaml"
   ]
  },
  {
   "cell_type": "code",
   "execution_count": 24,
   "id": "1b0e4a76-bc10-41c3-b534-3416bf6613c4",
   "metadata": {},
   "outputs": [
    {
     "name": "stderr",
     "output_type": "stream",
     "text": [
      "--2024-11-02 09:46:55--  https://raw.githubusercontent.com/apanthari/Job_Mining_Project/refs/heads/main/Data_Query.yaml\n",
      "Resolving raw.githubusercontent.com (raw.githubusercontent.com)... 185.199.109.133, 185.199.108.133, 185.199.110.133, ...\n",
      "Connecting to raw.githubusercontent.com (raw.githubusercontent.com)|185.199.109.133|:443... connected.\n",
      "HTTP request sent, awaiting response... 200 OK\n",
      "Length: 2321 (2.3K) [text/plain]\n",
      "Saving to: 'USA_Jobs.yaml'\n",
      "\n",
      "     0K ..                                                    100%  229K=0.01s\n",
      "\n",
      "2024-11-02 09:46:55 (229 KB/s) - 'USA_Jobs.yaml' saved [2321/2321]\n",
      "\n"
     ]
    }
   ],
   "source": [
    "!wget https://raw.githubusercontent.com/apanthari/Job_Mining_Project/refs/heads/main/Data_Query.yaml -O USA_Jobs.yaml"
   ]
  },
  {
   "cell_type": "code",
   "execution_count": 25,
   "id": "6944ce30-fd05-42c9-8949-56078e83e2c6",
   "metadata": {},
   "outputs": [
    {
     "name": "stdout",
     "output_type": "stream",
     "text": [
      "[2024-11-02 09:47:00,347] [INFO] JobFunnel: Scraping local providers with: ['IndeedScraperUSAEng', 'MonsterScraperUSAEng']\n",
      "[2024-11-02 09:47:01,709] [INFO] IndeedScraperUSAEng: Found 25 pages of search results for query=Data\n",
      "[2024-11-02 09:47:08,981] [INFO] IndeedScraperUSAEng: Scraped 602 job listings from search results pages\n",
      "[2024-11-02 09:47:09,430] [ERROR] IndeedScraperUSAEng: Job Senior Manager, Business Applications and Senior Manager, Business Applications share duplicate key_id: IndeedScraperUSAEng_dbfa486c628f2c5d\n",
      "[2024-11-02 09:47:09,430] [ERROR] IndeedScraperUSAEng: Job Sr. Business Analyst and Sr. Business Analyst share duplicate key_id: IndeedScraperUSAEng_996e409ef8993a71\n",
      "[2024-11-02 09:47:09,431] [ERROR] IndeedScraperUSAEng: Job Senior Backend Developer, Data Services and Senior Backend Developer, Data Services share duplicate key_id: IndeedScraperUSAEng_5a4ac6ba60831c14\n",
      "[2024-11-02 09:47:09,438] [ERROR] IndeedScraperUSAEng: Job Lead Consultant (Data Center Infrastructure Specialist) and Lead Consultant (Data Center Infrastructure Specialist) share duplicate key_id: IndeedScraperUSAEng_09888dfe5ea1ab69\n",
      "[2024-11-02 09:47:09,439] [ERROR] IndeedScraperUSAEng: Job Cloud Database Security Developer - Application Data Security and Cloud Database Security Developer - Application Data Security share duplicate key_id: IndeedScraperUSAEng_17d2689b94a9a2bc\n",
      "[2024-11-02 09:47:09,439] [ERROR] IndeedScraperUSAEng: Job AI/CV Engineer and AI/CV Engineer share duplicate key_id: IndeedScraperUSAEng_4acdf65060f1afc8\n",
      "[2024-11-02 09:47:09,440] [ERROR] IndeedScraperUSAEng: Job Sr. Product Marketing Manager, Public Equity and Sr. Product Marketing Manager, Public Equity share duplicate key_id: IndeedScraperUSAEng_8d2406c25cdadde1\n",
      "[2024-11-02 09:47:09,440] [ERROR] IndeedScraperUSAEng: Job Product Marketing Manager and Product Marketing Manager share duplicate key_id: IndeedScraperUSAEng_1440760a12bc6600\n",
      "[2024-11-02 09:47:09,440] [ERROR] IndeedScraperUSAEng: Job Innovation & Technology - Quantum Information Lead, Optimization and Machine Learning (Manager) and Innovation & Technology - Quantum Information Lead, Optimization and Machine Learning (Manager) share duplicate key_id: IndeedScraperUSAEng_3ff8bf605bfb58de\n",
      "[2024-11-02 09:47:09,440] [ERROR] IndeedScraperUSAEng: Job Senior Account Manager - Senior Gen AI Architect and Senior Account Manager - Senior Gen AI Architect share duplicate key_id: IndeedScraperUSAEng_bba00f645acaf6e1\n",
      "[2024-11-02 09:47:09,440] [ERROR] IndeedScraperUSAEng: Job Workday Certified Data Consultant/Team Lead - Education & Government and Workday Certified Data Consultant/Team Lead - Education & Government share duplicate key_id: IndeedScraperUSAEng_446b3b0fcb81416c\n",
      "[2024-11-02 09:47:09,441] [ERROR] IndeedScraperUSAEng: Job Senior Software Engineer - LLM and Senior Software Engineer - LLM share duplicate key_id: IndeedScraperUSAEng_e31901de9159e88e\n",
      "[2024-11-02 09:47:09,441] [ERROR] IndeedScraperUSAEng: Job Workday Certified Financials Data Lead and Workday Certified Financials Data Lead share duplicate key_id: IndeedScraperUSAEng_05523ad1c503683d\n",
      "[2024-11-02 09:47:09,441] [ERROR] IndeedScraperUSAEng: Job Staff AI Infra Engineer (serving API) and Staff AI Infra Engineer (serving API) share duplicate key_id: IndeedScraperUSAEng_700e948ae54c3c0b\n",
      "[2024-11-02 09:47:09,441] [ERROR] IndeedScraperUSAEng: Job Statistical Science Director, Oncology and Statistical Science Director, Oncology share duplicate key_id: IndeedScraperUSAEng_601ee8d43046e464\n",
      "[2024-11-02 09:47:09,441] [ERROR] IndeedScraperUSAEng: Job Principal Software Engineer - Database Platform and Principal Software Engineer - Database Platform share duplicate key_id: IndeedScraperUSAEng_4a96b98570af113c\n",
      "[2024-11-02 09:47:09,441] [ERROR] IndeedScraperUSAEng: Job Principal Engineer - Database Internals and Principal Engineer - Database Internals share duplicate key_id: IndeedScraperUSAEng_1572c98bc2fd10a3\n",
      "[2024-11-02 09:47:09,441] [ERROR] IndeedScraperUSAEng: Job Founding AI Frameworks Engineer and Founding AI Frameworks Engineer share duplicate key_id: IndeedScraperUSAEng_19ddfe242e99c3b1\n",
      "[2024-11-02 09:47:09,443] [ERROR] IndeedScraperUSAEng: Job Technology Business Analyst - Limited Term and Technology Business Analyst - Limited Term share duplicate key_id: IndeedScraperUSAEng_f2dc28fd3c386cbd\n",
      "[2024-11-02 09:47:09,443] [ERROR] IndeedScraperUSAEng: Job Lead Applied Scientist, IR/NLP and Lead Applied Scientist, IR/NLP share duplicate key_id: IndeedScraperUSAEng_95bd91bcb18099a7\n",
      "[2024-11-02 09:47:09,443] [ERROR] IndeedScraperUSAEng: Job Lead Technical Engineer and Lead Technical Engineer share duplicate key_id: IndeedScraperUSAEng_59ef7b8547c2a635\n",
      "[2024-11-02 09:47:09,443] [ERROR] IndeedScraperUSAEng: Job AI/ML Data Engineering Lead (Specialist Master) - SFL Scientific and AI/ML Data Engineering Lead (Specialist Master) - SFL Scientific share duplicate key_id: IndeedScraperUSAEng_164e156e8ede41da\n",
      "[2024-11-02 09:47:09,443] [ERROR] IndeedScraperUSAEng: Job Senior Software Engineer - Database Platform and Senior Software Engineer - Database Platform share duplicate key_id: IndeedScraperUSAEng_cdaf7ed618080fc8\n",
      "[2024-11-02 09:47:09,443] [ERROR] IndeedScraperUSAEng: Job Senior Data Scientist, Machine Learning, Fulfilment and Senior Data Scientist, Machine Learning, Fulfilment share duplicate key_id: IndeedScraperUSAEng_7206c1c60467a1e8\n",
      "[2024-11-02 09:47:09,443] [ERROR] IndeedScraperUSAEng: Job Senior Software Engineer - Query Compiler and Senior Software Engineer - Query Compiler share duplicate key_id: IndeedScraperUSAEng_dd22561443ff69a8\n",
      "[2024-11-02 09:47:09,443] [ERROR] IndeedScraperUSAEng: Job Workday Certified Data Configuration Lead - Education & Government and Workday Certified Data Configuration Lead - Education & Government share duplicate key_id: IndeedScraperUSAEng_f6f145f74fb94761\n",
      "[2024-11-02 09:47:09,443] [ERROR] IndeedScraperUSAEng: Job Senior Software Engineer, Data Platform (Data Trust) and Senior Software Engineer, Data Platform (Data Trust) share duplicate key_id: IndeedScraperUSAEng_96f427cc44ff303b\n",
      "[2024-11-02 09:47:09,444] [ERROR] IndeedScraperUSAEng: Job Sr. Product Marketing Manager, Funds and Sr. Product Marketing Manager, Funds share duplicate key_id: IndeedScraperUSAEng_d2bf567ae5df321f\n",
      "[2024-11-02 09:47:09,444] [ERROR] IndeedScraperUSAEng: Job Sr. Energy Strategy Manager, AWS Energy team and Sr. Energy Strategy Manager, AWS Energy team share duplicate key_id: IndeedScraperUSAEng_d2ab01dea94a514f\n",
      "[2024-11-02 09:47:09,444] [ERROR] IndeedScraperUSAEng: Job Cyber Risk Data Privacy Solution Engineer/Senior Consultant and Cyber Risk Data Privacy Solution Engineer/Senior Consultant share duplicate key_id: IndeedScraperUSAEng_283789f69b89f552\n",
      "[2024-11-02 09:47:09,444] [ERROR] IndeedScraperUSAEng: Job Guidewire Claim Center Configuration Business Analyst and Guidewire Claim Center Configuration Business Analyst share duplicate key_id: IndeedScraperUSAEng_24cb1d44e95d6797\n",
      "[2024-11-02 09:47:09,468] [INFO] MonsterScraperUSAEng: No get() or set() will be done for Job attrs: ['REMOTENESS']\n",
      "[2024-11-02 09:47:10,421] [ERROR] JobFunnel: Failed to scrape jobs for MonsterScraperUSAEng: Unable to extract jobs from initial search result page:\n",
      "\t'NoneType' object has no attribute 'text'\n",
      "[2024-11-02 09:47:10,421] [INFO] JobFunnel: Completed all scraping, found 571 new jobs.\n",
      "[2024-11-02 09:47:10,497] [INFO] JobFunnel: Done. View your current jobs in Project_Data/USA_Jobs.csv\n"
     ]
    },
    {
     "name": "stderr",
     "output_type": "stream",
     "text": [
      "\n",
      "  0%|          | 0/602 [00:00<?, ?it/s]\n",
      "100%|##########| 602/602 [00:00<00:00, 35488.50it/s]\n"
     ]
    }
   ],
   "source": [
    "!funnel load -s USA_Jobs.yaml"
   ]
  },
  {
   "cell_type": "code",
   "execution_count": null,
   "id": "8fc633e1-bd73-45fd-8b4d-abe0ae24ae8f",
   "metadata": {},
   "outputs": [],
   "source": []
  }
 ],
 "metadata": {
  "kernelspec": {
   "display_name": "Python 3 (ipykernel)",
   "language": "python",
   "name": "python3"
  },
  "language_info": {
   "codemirror_mode": {
    "name": "ipython",
    "version": 3
   },
   "file_extension": ".py",
   "mimetype": "text/x-python",
   "name": "python",
   "nbconvert_exporter": "python",
   "pygments_lexer": "ipython3",
   "version": "3.11.5"
  }
 },
 "nbformat": 4,
 "nbformat_minor": 5
}
