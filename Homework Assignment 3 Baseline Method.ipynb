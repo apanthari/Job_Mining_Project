{
 "cells": [
  {
   "cell_type": "code",
   "execution_count": 1,
   "id": "e66fb1cc",
   "metadata": {},
   "outputs": [],
   "source": [
    "import scipy\n",
    "import sklearn\n",
    "import json\n",
    "import pandas as pd\n",
    "import numpy as np\n",
    "from collections import Counter\n",
    "from numpy import random\n",
    "from sklearn.linear_model import LogisticRegression\n",
    "from sklearn.feature_extraction.text import TfidfVectorizer, CountVectorizer\n",
    "from collections import Counter"
   ]
  },
  {
   "cell_type": "markdown",
   "id": "5edaca44",
   "metadata": {},
   "source": [
    "# Download files, set up folder, put files into folder"
   ]
  },
  {
   "cell_type": "code",
   "execution_count": 2,
   "id": "485efed8",
   "metadata": {},
   "outputs": [],
   "source": [
    "training_data_path = './reference_metadata_2013.csv'\n",
    "test_data_path = './reference_metadata_2020.csv'"
   ]
  },
  {
   "cell_type": "code",
   "execution_count": 3,
   "id": "98f3e7d7",
   "metadata": {},
   "outputs": [],
   "source": [
    "# specify data type for each column (to be used in pandas read_csv function)\n",
    "dtype_dict = {'REFERENCE_ID': str, 'TITLE': str, 'AUTHOR': str, 'YEAR': str, 'ABSTRACT': str, 'CITED': int}"
   ]
  },
  {
   "cell_type": "code",
   "execution_count": 4,
   "id": "094d8416",
   "metadata": {},
   "outputs": [
    {
     "ename": "FileNotFoundError",
     "evalue": "[Errno 2] No such file or directory: './reference_metadata_2013.csv'",
     "output_type": "error",
     "traceback": [
      "\u001b[1;31m---------------------------------------------------------------------------\u001b[0m",
      "\u001b[1;31mFileNotFoundError\u001b[0m                         Traceback (most recent call last)",
      "Cell \u001b[1;32mIn[4], line 1\u001b[0m\n\u001b[1;32m----> 1\u001b[0m dataframe \u001b[38;5;241m=\u001b[39m pd\u001b[38;5;241m.\u001b[39mread_csv(training_data_path, dtype \u001b[38;5;241m=\u001b[39m dtype_dict, keep_default_na \u001b[38;5;241m=\u001b[39m \u001b[38;5;28;01mFalse\u001b[39;00m)\n\u001b[0;32m      2\u001b[0m dataframe\n",
      "File \u001b[1;32m~\\anaconda3\\Lib\\site-packages\\pandas\\io\\parsers\\readers.py:948\u001b[0m, in \u001b[0;36mread_csv\u001b[1;34m(filepath_or_buffer, sep, delimiter, header, names, index_col, usecols, dtype, engine, converters, true_values, false_values, skipinitialspace, skiprows, skipfooter, nrows, na_values, keep_default_na, na_filter, verbose, skip_blank_lines, parse_dates, infer_datetime_format, keep_date_col, date_parser, date_format, dayfirst, cache_dates, iterator, chunksize, compression, thousands, decimal, lineterminator, quotechar, quoting, doublequote, escapechar, comment, encoding, encoding_errors, dialect, on_bad_lines, delim_whitespace, low_memory, memory_map, float_precision, storage_options, dtype_backend)\u001b[0m\n\u001b[0;32m    935\u001b[0m kwds_defaults \u001b[38;5;241m=\u001b[39m _refine_defaults_read(\n\u001b[0;32m    936\u001b[0m     dialect,\n\u001b[0;32m    937\u001b[0m     delimiter,\n\u001b[1;32m   (...)\u001b[0m\n\u001b[0;32m    944\u001b[0m     dtype_backend\u001b[38;5;241m=\u001b[39mdtype_backend,\n\u001b[0;32m    945\u001b[0m )\n\u001b[0;32m    946\u001b[0m kwds\u001b[38;5;241m.\u001b[39mupdate(kwds_defaults)\n\u001b[1;32m--> 948\u001b[0m \u001b[38;5;28;01mreturn\u001b[39;00m _read(filepath_or_buffer, kwds)\n",
      "File \u001b[1;32m~\\anaconda3\\Lib\\site-packages\\pandas\\io\\parsers\\readers.py:611\u001b[0m, in \u001b[0;36m_read\u001b[1;34m(filepath_or_buffer, kwds)\u001b[0m\n\u001b[0;32m    608\u001b[0m _validate_names(kwds\u001b[38;5;241m.\u001b[39mget(\u001b[38;5;124m\"\u001b[39m\u001b[38;5;124mnames\u001b[39m\u001b[38;5;124m\"\u001b[39m, \u001b[38;5;28;01mNone\u001b[39;00m))\n\u001b[0;32m    610\u001b[0m \u001b[38;5;66;03m# Create the parser.\u001b[39;00m\n\u001b[1;32m--> 611\u001b[0m parser \u001b[38;5;241m=\u001b[39m TextFileReader(filepath_or_buffer, \u001b[38;5;241m*\u001b[39m\u001b[38;5;241m*\u001b[39mkwds)\n\u001b[0;32m    613\u001b[0m \u001b[38;5;28;01mif\u001b[39;00m chunksize \u001b[38;5;129;01mor\u001b[39;00m iterator:\n\u001b[0;32m    614\u001b[0m     \u001b[38;5;28;01mreturn\u001b[39;00m parser\n",
      "File \u001b[1;32m~\\anaconda3\\Lib\\site-packages\\pandas\\io\\parsers\\readers.py:1448\u001b[0m, in \u001b[0;36mTextFileReader.__init__\u001b[1;34m(self, f, engine, **kwds)\u001b[0m\n\u001b[0;32m   1445\u001b[0m     \u001b[38;5;28mself\u001b[39m\u001b[38;5;241m.\u001b[39moptions[\u001b[38;5;124m\"\u001b[39m\u001b[38;5;124mhas_index_names\u001b[39m\u001b[38;5;124m\"\u001b[39m] \u001b[38;5;241m=\u001b[39m kwds[\u001b[38;5;124m\"\u001b[39m\u001b[38;5;124mhas_index_names\u001b[39m\u001b[38;5;124m\"\u001b[39m]\n\u001b[0;32m   1447\u001b[0m \u001b[38;5;28mself\u001b[39m\u001b[38;5;241m.\u001b[39mhandles: IOHandles \u001b[38;5;241m|\u001b[39m \u001b[38;5;28;01mNone\u001b[39;00m \u001b[38;5;241m=\u001b[39m \u001b[38;5;28;01mNone\u001b[39;00m\n\u001b[1;32m-> 1448\u001b[0m \u001b[38;5;28mself\u001b[39m\u001b[38;5;241m.\u001b[39m_engine \u001b[38;5;241m=\u001b[39m \u001b[38;5;28mself\u001b[39m\u001b[38;5;241m.\u001b[39m_make_engine(f, \u001b[38;5;28mself\u001b[39m\u001b[38;5;241m.\u001b[39mengine)\n",
      "File \u001b[1;32m~\\anaconda3\\Lib\\site-packages\\pandas\\io\\parsers\\readers.py:1705\u001b[0m, in \u001b[0;36mTextFileReader._make_engine\u001b[1;34m(self, f, engine)\u001b[0m\n\u001b[0;32m   1703\u001b[0m     \u001b[38;5;28;01mif\u001b[39;00m \u001b[38;5;124m\"\u001b[39m\u001b[38;5;124mb\u001b[39m\u001b[38;5;124m\"\u001b[39m \u001b[38;5;129;01mnot\u001b[39;00m \u001b[38;5;129;01min\u001b[39;00m mode:\n\u001b[0;32m   1704\u001b[0m         mode \u001b[38;5;241m+\u001b[39m\u001b[38;5;241m=\u001b[39m \u001b[38;5;124m\"\u001b[39m\u001b[38;5;124mb\u001b[39m\u001b[38;5;124m\"\u001b[39m\n\u001b[1;32m-> 1705\u001b[0m \u001b[38;5;28mself\u001b[39m\u001b[38;5;241m.\u001b[39mhandles \u001b[38;5;241m=\u001b[39m get_handle(\n\u001b[0;32m   1706\u001b[0m     f,\n\u001b[0;32m   1707\u001b[0m     mode,\n\u001b[0;32m   1708\u001b[0m     encoding\u001b[38;5;241m=\u001b[39m\u001b[38;5;28mself\u001b[39m\u001b[38;5;241m.\u001b[39moptions\u001b[38;5;241m.\u001b[39mget(\u001b[38;5;124m\"\u001b[39m\u001b[38;5;124mencoding\u001b[39m\u001b[38;5;124m\"\u001b[39m, \u001b[38;5;28;01mNone\u001b[39;00m),\n\u001b[0;32m   1709\u001b[0m     compression\u001b[38;5;241m=\u001b[39m\u001b[38;5;28mself\u001b[39m\u001b[38;5;241m.\u001b[39moptions\u001b[38;5;241m.\u001b[39mget(\u001b[38;5;124m\"\u001b[39m\u001b[38;5;124mcompression\u001b[39m\u001b[38;5;124m\"\u001b[39m, \u001b[38;5;28;01mNone\u001b[39;00m),\n\u001b[0;32m   1710\u001b[0m     memory_map\u001b[38;5;241m=\u001b[39m\u001b[38;5;28mself\u001b[39m\u001b[38;5;241m.\u001b[39moptions\u001b[38;5;241m.\u001b[39mget(\u001b[38;5;124m\"\u001b[39m\u001b[38;5;124mmemory_map\u001b[39m\u001b[38;5;124m\"\u001b[39m, \u001b[38;5;28;01mFalse\u001b[39;00m),\n\u001b[0;32m   1711\u001b[0m     is_text\u001b[38;5;241m=\u001b[39mis_text,\n\u001b[0;32m   1712\u001b[0m     errors\u001b[38;5;241m=\u001b[39m\u001b[38;5;28mself\u001b[39m\u001b[38;5;241m.\u001b[39moptions\u001b[38;5;241m.\u001b[39mget(\u001b[38;5;124m\"\u001b[39m\u001b[38;5;124mencoding_errors\u001b[39m\u001b[38;5;124m\"\u001b[39m, \u001b[38;5;124m\"\u001b[39m\u001b[38;5;124mstrict\u001b[39m\u001b[38;5;124m\"\u001b[39m),\n\u001b[0;32m   1713\u001b[0m     storage_options\u001b[38;5;241m=\u001b[39m\u001b[38;5;28mself\u001b[39m\u001b[38;5;241m.\u001b[39moptions\u001b[38;5;241m.\u001b[39mget(\u001b[38;5;124m\"\u001b[39m\u001b[38;5;124mstorage_options\u001b[39m\u001b[38;5;124m\"\u001b[39m, \u001b[38;5;28;01mNone\u001b[39;00m),\n\u001b[0;32m   1714\u001b[0m )\n\u001b[0;32m   1715\u001b[0m \u001b[38;5;28;01massert\u001b[39;00m \u001b[38;5;28mself\u001b[39m\u001b[38;5;241m.\u001b[39mhandles \u001b[38;5;129;01mis\u001b[39;00m \u001b[38;5;129;01mnot\u001b[39;00m \u001b[38;5;28;01mNone\u001b[39;00m\n\u001b[0;32m   1716\u001b[0m f \u001b[38;5;241m=\u001b[39m \u001b[38;5;28mself\u001b[39m\u001b[38;5;241m.\u001b[39mhandles\u001b[38;5;241m.\u001b[39mhandle\n",
      "File \u001b[1;32m~\\anaconda3\\Lib\\site-packages\\pandas\\io\\common.py:863\u001b[0m, in \u001b[0;36mget_handle\u001b[1;34m(path_or_buf, mode, encoding, compression, memory_map, is_text, errors, storage_options)\u001b[0m\n\u001b[0;32m    858\u001b[0m \u001b[38;5;28;01melif\u001b[39;00m \u001b[38;5;28misinstance\u001b[39m(handle, \u001b[38;5;28mstr\u001b[39m):\n\u001b[0;32m    859\u001b[0m     \u001b[38;5;66;03m# Check whether the filename is to be opened in binary mode.\u001b[39;00m\n\u001b[0;32m    860\u001b[0m     \u001b[38;5;66;03m# Binary mode does not support 'encoding' and 'newline'.\u001b[39;00m\n\u001b[0;32m    861\u001b[0m     \u001b[38;5;28;01mif\u001b[39;00m ioargs\u001b[38;5;241m.\u001b[39mencoding \u001b[38;5;129;01mand\u001b[39;00m \u001b[38;5;124m\"\u001b[39m\u001b[38;5;124mb\u001b[39m\u001b[38;5;124m\"\u001b[39m \u001b[38;5;129;01mnot\u001b[39;00m \u001b[38;5;129;01min\u001b[39;00m ioargs\u001b[38;5;241m.\u001b[39mmode:\n\u001b[0;32m    862\u001b[0m         \u001b[38;5;66;03m# Encoding\u001b[39;00m\n\u001b[1;32m--> 863\u001b[0m         handle \u001b[38;5;241m=\u001b[39m \u001b[38;5;28mopen\u001b[39m(\n\u001b[0;32m    864\u001b[0m             handle,\n\u001b[0;32m    865\u001b[0m             ioargs\u001b[38;5;241m.\u001b[39mmode,\n\u001b[0;32m    866\u001b[0m             encoding\u001b[38;5;241m=\u001b[39mioargs\u001b[38;5;241m.\u001b[39mencoding,\n\u001b[0;32m    867\u001b[0m             errors\u001b[38;5;241m=\u001b[39merrors,\n\u001b[0;32m    868\u001b[0m             newline\u001b[38;5;241m=\u001b[39m\u001b[38;5;124m\"\u001b[39m\u001b[38;5;124m\"\u001b[39m,\n\u001b[0;32m    869\u001b[0m         )\n\u001b[0;32m    870\u001b[0m     \u001b[38;5;28;01melse\u001b[39;00m:\n\u001b[0;32m    871\u001b[0m         \u001b[38;5;66;03m# Binary mode\u001b[39;00m\n\u001b[0;32m    872\u001b[0m         handle \u001b[38;5;241m=\u001b[39m \u001b[38;5;28mopen\u001b[39m(handle, ioargs\u001b[38;5;241m.\u001b[39mmode)\n",
      "\u001b[1;31mFileNotFoundError\u001b[0m: [Errno 2] No such file or directory: './reference_metadata_2013.csv'"
     ]
    }
   ],
   "source": [
    "dataframe = pd.read_csv(training_data_path, dtype = dtype_dict, keep_default_na = False)\n",
    "dataframe"
   ]
  },
  {
   "cell_type": "code",
   "execution_count": null,
   "id": "c90d5f44",
   "metadata": {},
   "outputs": [],
   "source": [
    "train_ratio = 0.7 # 70% for training, 30% for validation\n",
    "random_seed = 100\n",
    "\n",
    "train_dataframe = dataframe.sample(frac=train_ratio, random_state=random_seed)\n",
    "valid_dataframe = dataframe.drop(train_dataframe.index)\n",
    "print('training set size:', len(train_dataframe))\n",
    "print('validation set size:', len(valid_dataframe))"
   ]
  },
  {
   "cell_type": "code",
   "execution_count": null,
   "id": "9ba3580c",
   "metadata": {},
   "outputs": [],
   "source": [
    "test_dataframe = pd.read_csv(test_data_path, dtype = dtype_dict, keep_default_na = False)\n",
    "test_dataframe"
   ]
  },
  {
   "cell_type": "markdown",
   "id": "d1093bd1",
   "metadata": {},
   "source": [
    "# Data exploration for training & test data ... YOUR TURN!"
   ]
  },
  {
   "cell_type": "code",
   "execution_count": null,
   "id": "86867fd7-a304-4b0b-a846-03dac8e9507b",
   "metadata": {},
   "outputs": [],
   "source": [
    "#what does TFIDF check for? \n",
    "#TF = term frequency - number of times a word appears in a document \n",
    "#IDF = inverse document frequency - how common/rare a word is in the entire corpus\n",
    "\n",
    "#The idea behind TF-IDF is that words that are more common in a document are less informative, \n",
    "#while words that are less common in the document but more common in the collection of \n",
    "#documents as a whole are more informative\n",
    "\n",
    "#words that occur a lot in a document aren't informative, but words that are less common in a document (but found generally in each document)\n"
   ]
  },
  {
   "cell_type": "code",
   "execution_count": null,
   "id": "e711c334",
   "metadata": {},
   "outputs": [],
   "source": [
    "def print_topk_tfidf_words(df, column_name, k):\n",
    "    counter = Counter() #gives you a dict of count of objects\n",
    "    for index, row in dataframe.iterrows(): #iterate through rows\n",
    "        counter.update(row[column_name].strip().lower().split()) #go through each row value of column name update counter with new values\n",
    "\n",
    "    #print(counter)\n",
    "    # sort words by frequency from high to low\n",
    "    for word, count in sorted(counter.items(), key = lambda x: x[1], reverse = True)[:k]:  #\n",
    "        print (word, count)"
   ]
  },
  {
   "cell_type": "code",
   "execution_count": null,
   "id": "7e01f4e2",
   "metadata": {},
   "outputs": [],
   "source": [
    "print_topk_tfidf_words(dataframe, 'TITLE', 100)\n",
    "# print_topk_tfidf_words(dataframe, 'ABSTRACT', 100)\n",
    "# print_topk_tfidf_words(test_dataframe, 'TITLE', 100)\n",
    "# print_topk_tfidf_words(test_dataframe, 'TITLE', 100)"
   ]
  },
  {
   "cell_type": "markdown",
   "id": "dc73b3f2",
   "metadata": {},
   "source": [
    "# Evaluation metric: work saved over sampling @ 95% recall"
   ]
  },
  {
   "cell_type": "code",
   "execution_count": 5,
   "id": "e57c3132",
   "metadata": {},
   "outputs": [],
   "source": [
    "# Work saved oversampling at 95% recall (WSS@95%)\n",
    "    \n",
    "# This is a metric used for evaluating high-recall ranking results.\n",
    "# Given a ranked list of items that are labeled as relevant or non-relevant, \n",
    "# let X be the percentage of items needed to be sifted to find at least 95%\n",
    "# of all relevant items, starting from the top of the list. \n",
    "    \n",
    "# If we randomly order the list of items, then X = 95%.\n",
    "# If a ranked list outperforms random ordering, then we should see X < 95%.\n",
    "# WSS@95% computes 95% - X, that is, how much work will be saved over \n",
    "# random ordering (or random sampling) if the said ranked list is used.\n",
    "\n",
    "# params:\n",
    "#     y_true: ground truth label array (1s and 0s)\n",
    "#     y_pred: predicted score array\n",
    "#     y_true and y_pred are assumed to have been aligned on REFERENCE_ID\n",
    "# return:\n",
    "#     None\n",
    "\n",
    "def WSS_95(y_true, y_pred):\n",
    "\n",
    "    res = pd.concat([pd.Series(y_pred), pd.Series(y_true)], axis=1)\n",
    "    res.columns = ['y_pred', 'y_true']\n",
    "\n",
    "    # sort res by scores in the submission column\n",
    "    res.sort_values(\"y_pred\", axis = 0, ascending = False,\n",
    "                inplace = True)\n",
    "\n",
    "    # calculate total number of relevant items\n",
    "    # add a small number for the edge case where \n",
    "    # total_num_relevant = 0 and used as denominator\n",
    "    total_num_relevant = sum(res['y_true']) + 1e-100\n",
    "\n",
    "    # compute recall at each rank until it first surpasses 95%\n",
    "    # iterate through the ranked list, calculate recall from top down\n",
    "    curr_num_relevant = 0\n",
    "    curr_position = 0\n",
    "    for i, row in res.iterrows():\n",
    "        curr_num_relevant += row['y_true']\n",
    "        curr_position += 1\n",
    "        curr_recall = curr_num_relevant / total_num_relevant\n",
    "        if curr_recall >= 0.95:\n",
    "            break\n",
    "\n",
    "    print ('total_num_relevant', total_num_relevant)\n",
    "    print ('curr_position', curr_position)\n",
    "    \n",
    "    WSS_95 = 0.95 - curr_position / len(res)\n",
    "\n",
    "\n",
    "    return WSS_95"
   ]
  },
  {
   "cell_type": "markdown",
   "id": "24ed8682",
   "metadata": {},
   "source": [
    "# Try the trivial baseline: assign random scores to references in the validation set (no learning is needed)"
   ]
  },
  {
   "cell_type": "code",
   "execution_count": 6,
   "id": "be4852dc",
   "metadata": {},
   "outputs": [
    {
     "ename": "NameError",
     "evalue": "name 'valid_dataframe' is not defined",
     "output_type": "error",
     "traceback": [
      "\u001b[1;31m---------------------------------------------------------------------------\u001b[0m",
      "\u001b[1;31mNameError\u001b[0m                                 Traceback (most recent call last)",
      "Cell \u001b[1;32mIn[6], line 4\u001b[0m\n\u001b[0;32m      1\u001b[0m \u001b[38;5;66;03m# Make a list of scores uniformly randomly drawn between 0 and 1 as ranking scores. \u001b[39;00m\n\u001b[0;32m      2\u001b[0m \u001b[38;5;66;03m# This trivial baseline gives the performance lower bound on the validation set\u001b[39;00m\n\u001b[0;32m      3\u001b[0m \u001b[38;5;66;03m# Note: we are using \"work saved over sampling at 95% recall\" as the performance metric\u001b[39;00m\n\u001b[1;32m----> 4\u001b[0m random_pred \u001b[38;5;241m=\u001b[39m [random\u001b[38;5;241m.\u001b[39mrandom() \u001b[38;5;28;01mfor\u001b[39;00m i \u001b[38;5;129;01min\u001b[39;00m \u001b[38;5;28mrange\u001b[39m(\u001b[38;5;28mlen\u001b[39m(valid_dataframe))]\n\u001b[0;32m      5\u001b[0m wss95 \u001b[38;5;241m=\u001b[39m WSS_95(valid_dataframe[\u001b[38;5;124m'\u001b[39m\u001b[38;5;124mCITED\u001b[39m\u001b[38;5;124m'\u001b[39m]\u001b[38;5;241m.\u001b[39mto_numpy(), random_pred)\n\u001b[0;32m      6\u001b[0m \u001b[38;5;28mprint\u001b[39m (\u001b[38;5;124m'\u001b[39m\u001b[38;5;124mWSS@95\u001b[39m\u001b[38;5;132;01m% o\u001b[39;00m\u001b[38;5;124mf random scoring on validation set:\u001b[39m\u001b[38;5;124m'\u001b[39m, wss95)\n",
      "\u001b[1;31mNameError\u001b[0m: name 'valid_dataframe' is not defined"
     ]
    }
   ],
   "source": [
    "# Make a list of scores uniformly randomly drawn between 0 and 1 as ranking scores. \n",
    "# This trivial baseline gives the performance lower bound on the validation set\n",
    "# Note: we are using \"work saved over sampling at 95% recall\" as the performance metric\n",
    "random_pred = [random.random() for i in range(len(valid_dataframe))]\n",
    "wss95 = WSS_95(valid_dataframe['CITED'].to_numpy(), random_pred)\n",
    "print ('WSS@95% of random scoring on validation set:', wss95)"
   ]
  },
  {
   "cell_type": "code",
   "execution_count": 7,
   "id": "41f61fdf",
   "metadata": {},
   "outputs": [],
   "source": [
    "# helper function: write out ranking scores into a csv format file\n",
    "# params:\n",
    "#     df: dataframe, where each row is a test example, with column 'REFERENCE_ID' as data id\n",
    "#     pred: a list or 1-d array of scores for each test example\n",
    "#     filepath: the output file path\n",
    "# return:\n",
    "#     None\n",
    "\n",
    "def write_test_prediction(df, pred, filepath):\n",
    "    with open(filepath, 'w') as outfile:\n",
    "        outfile.write('{},{}\\n'.format('REFERENCE_ID', 'Score'))\n",
    "        for index, row in df.iterrows():\n",
    "            outfile.write('{},{}\\n'.format(row['REFERENCE_ID'], pred[index]))\n",
    "    print (len(df), 'predictions are written to', filepath)"
   ]
  },
  {
   "cell_type": "code",
   "execution_count": 8,
   "id": "d015de16",
   "metadata": {},
   "outputs": [
    {
     "ename": "NameError",
     "evalue": "name 'test_dataframe' is not defined",
     "output_type": "error",
     "traceback": [
      "\u001b[1;31m---------------------------------------------------------------------------\u001b[0m",
      "\u001b[1;31mNameError\u001b[0m                                 Traceback (most recent call last)",
      "Cell \u001b[1;32mIn[8], line 1\u001b[0m\n\u001b[1;32m----> 1\u001b[0m random_pred_test \u001b[38;5;241m=\u001b[39m [random\u001b[38;5;241m.\u001b[39mrandom() \u001b[38;5;28;01mfor\u001b[39;00m i \u001b[38;5;129;01min\u001b[39;00m \u001b[38;5;28mrange\u001b[39m(\u001b[38;5;28mlen\u001b[39m(test_dataframe))]\n\u001b[0;32m      2\u001b[0m write_test_prediction(test_dataframe, random_pred_test, \u001b[38;5;124m'\u001b[39m\u001b[38;5;124m./random_score.csv\u001b[39m\u001b[38;5;124m'\u001b[39m)\n",
      "\u001b[1;31mNameError\u001b[0m: name 'test_dataframe' is not defined"
     ]
    }
   ],
   "source": [
    "random_pred_test = [random.random() for i in range(len(test_dataframe))]\n",
    "write_test_prediction(test_dataframe, random_pred_test, './random_score.csv')"
   ]
  },
  {
   "cell_type": "markdown",
   "id": "a4876b13",
   "metadata": {},
   "source": [
    "# Build feature extractor"
   ]
  },
  {
   "cell_type": "markdown",
   "id": "34a9785c",
   "metadata": {},
   "source": [
    "## Use n-grams (n=1,2) from the 'TITLE' and 'ABSTRACT' fields of training data as features"
   ]
  },
  {
   "cell_type": "code",
   "execution_count": 9,
   "id": "eee1609c",
   "metadata": {},
   "outputs": [
    {
     "ename": "NameError",
     "evalue": "name 'train_dataframe' is not defined",
     "output_type": "error",
     "traceback": [
      "\u001b[1;31m---------------------------------------------------------------------------\u001b[0m",
      "\u001b[1;31mNameError\u001b[0m                                 Traceback (most recent call last)",
      "Cell \u001b[1;32mIn[9], line 2\u001b[0m\n\u001b[0;32m      1\u001b[0m vectorizer \u001b[38;5;241m=\u001b[39m TfidfVectorizer(ngram_range\u001b[38;5;241m=\u001b[39m(\u001b[38;5;241m1\u001b[39m, \u001b[38;5;241m2\u001b[39m), max_df\u001b[38;5;241m=\u001b[39m\u001b[38;5;241m0.95\u001b[39m, min_df\u001b[38;5;241m=\u001b[39m\u001b[38;5;241m2\u001b[39m)\n\u001b[1;32m----> 2\u001b[0m vectorizer\u001b[38;5;241m.\u001b[39mfit(train_dataframe[\u001b[38;5;124m'\u001b[39m\u001b[38;5;124mTITLE\u001b[39m\u001b[38;5;124m'\u001b[39m] \u001b[38;5;241m+\u001b[39m \u001b[38;5;124m\"\u001b[39m\u001b[38;5;124m \u001b[39m\u001b[38;5;124m\"\u001b[39m \u001b[38;5;241m+\u001b[39m train_dataframe[\u001b[38;5;124m'\u001b[39m\u001b[38;5;124mABSTRACT\u001b[39m\u001b[38;5;124m'\u001b[39m])\n",
      "\u001b[1;31mNameError\u001b[0m: name 'train_dataframe' is not defined"
     ]
    }
   ],
   "source": [
    "vectorizer = TfidfVectorizer(ngram_range=(1, 2), max_df=0.95, min_df=2)\n",
    "vectorizer.fit(train_dataframe['TITLE'] + \" \" + train_dataframe['ABSTRACT'])"
   ]
  },
  {
   "cell_type": "markdown",
   "id": "19930db7",
   "metadata": {},
   "source": [
    "# Extract feature vectors for training, validation, and test data "
   ]
  },
  {
   "cell_type": "code",
   "execution_count": 14,
   "id": "68feab44",
   "metadata": {},
   "outputs": [
    {
     "name": "stdout",
     "output_type": "stream",
     "text": [
      "(11040, 155588)\n",
      "(4732, 155588)\n",
      "(171376, 155588)\n"
     ]
    }
   ],
   "source": [
    "train_X = vectorizer.transform(train_dataframe['TITLE'] + \" \" + train_dataframe['ABSTRACT'])\n",
    "valid_X = vectorizer.transform(valid_dataframe['TITLE'] + \" \" + valid_dataframe['ABSTRACT'])\n",
    "test_X = vectorizer.transform(test_dataframe['TITLE'] + \" \" + test_dataframe['ABSTRACT'])\n",
    "print (train_X.shape)\n",
    "print (valid_X.shape)\n",
    "print (test_X.shape)"
   ]
  },
  {
   "cell_type": "markdown",
   "id": "cf9da4a5",
   "metadata": {},
   "source": [
    "# Train model on training set"
   ]
  },
  {
   "cell_type": "code",
   "execution_count": 15,
   "id": "7c9cacfc",
   "metadata": {},
   "outputs": [
    {
     "data": {
      "text/plain": [
       "LogisticRegression(C=1, solver='liblinear')"
      ]
     },
     "execution_count": 15,
     "metadata": {},
     "output_type": "execute_result"
    }
   ],
   "source": [
    "# We treat the ranking task as a classification task\n",
    "# Almost all classification models can output a score that \n",
    "# indicates (roughly) how confident the model believes\n",
    "# an example to belong to a class. \n",
    "# Here in the baseline, we use a logistic regression model.\n",
    "train_Y = train_dataframe['CITED']\n",
    "model = LogisticRegression(C = 1, solver='liblinear')\n",
    "model.fit(train_X, train_Y)"
   ]
  },
  {
   "cell_type": "markdown",
   "id": "aea75f14",
   "metadata": {},
   "source": [
    "# Evaluate model on training set"
   ]
  },
  {
   "cell_type": "code",
   "execution_count": 16,
   "id": "27f575af",
   "metadata": {},
   "outputs": [
    {
     "name": "stdout",
     "output_type": "stream",
     "text": [
      "total_num_relevant 1465.0\n",
      "curr_position 3709\n",
      "Logistic regression, WSS@95% on training set: 0.6140398550724637\n"
     ]
    }
   ],
   "source": [
    "# To produce a ranking score, we ask the model to output\n",
    "# predicted probability (.predict_proba method), instead of\n",
    "# predicted class label (.predict method)\n",
    "train_Y_hat = model.predict_proba(train_X)\n",
    "train_Y = train_dataframe['CITED'].to_numpy()\n",
    "\n",
    "# According to the documentation:\n",
    "# https://scikit-learn.org/stable/modules/generated/sklearn.linear_model.LogisticRegression.html#sklearn.linear_model.LogisticRegression.predict_proba\n",
    "# The predicted probablity for label '1' (CITED) is \n",
    "# the second column (column index = 1) returned by predict_proba (train_Y_hat)\n",
    "wss95 = WSS_95(train_Y, train_Y_hat[:,1])\n",
    "print ('Logistic regression, WSS@95% on training set:', wss95)"
   ]
  },
  {
   "cell_type": "markdown",
   "id": "f14bdf16",
   "metadata": {},
   "source": [
    "# Evaluate model on validation set"
   ]
  },
  {
   "cell_type": "code",
   "execution_count": 17,
   "id": "22eccc27",
   "metadata": {},
   "outputs": [
    {
     "name": "stdout",
     "output_type": "stream",
     "text": [
      "total_num_relevant 598.0\n",
      "curr_position 3224\n",
      "Logistic regression, WSS@95% on validation set: 0.2686813186813186\n"
     ]
    }
   ],
   "source": [
    "valid_Y_hat = model.predict_proba(valid_X)\n",
    "valid_Y = valid_dataframe['CITED'].to_numpy()\n",
    "wss95 = WSS_95(valid_Y, valid_Y_hat[:,1])\n",
    "print ('Logistic regression, WSS@95% on validation set:', wss95)"
   ]
  },
  {
   "cell_type": "code",
   "execution_count": 18,
   "id": "0cb01957",
   "metadata": {},
   "outputs": [],
   "source": [
    "# Here, by using logistic regression, we see a higher WSS@95%\n",
    "# on the validation set (~0.27) than using random scores (~0.01). It is \n",
    "# a sanity check confirming that the logistic regression model can learn\n",
    "# some useful ranking signals (performing better than random).\n",
    "\n",
    "# Note that in this task, the performance on test data can be lower than \n",
    "# that on validadation set, because the test data and validation set do NOT\n",
    "# come from the same underlying distribution.\n",
    "# The validation set is a random subsample of candidate reference pool in 2013.\n",
    "# The test data is the whole candidate reference pool in 2020, which has a\n",
    "# different data distribution from 2013 as a result of topic shift in ozone research. "
   ]
  },
  {
   "cell_type": "markdown",
   "id": "62be1c85",
   "metadata": {},
   "source": [
    "# After experimentation on the validation set: retrain the final model on all training data, and predict scores for test data"
   ]
  },
  {
   "cell_type": "code",
   "execution_count": 19,
   "id": "9c2fa8d2",
   "metadata": {},
   "outputs": [
    {
     "name": "stdout",
     "output_type": "stream",
     "text": [
      "171376 predictions are written to ./logistic_regression-tfidf-trimmed-bigram.csv\n"
     ]
    }
   ],
   "source": [
    "all_train_Y = dataframe['CITED']\n",
    "all_train_X = vectorizer.transform(dataframe['TITLE'] + ' ' + dataframe['ABSTRACT'])\n",
    "model.fit(all_train_X, all_train_Y)\n",
    "test_Y_hat = model.predict_proba(test_X)\n",
    "write_test_prediction(test_dataframe, test_Y_hat[:,1], './logistic_regression-tfidf-trimmed-bigram.csv')"
   ]
  },
  {
   "cell_type": "markdown",
   "id": "b6826d59",
   "metadata": {},
   "source": [
    "# Investigate what the model has learned and where it failed (A.K.A. error analysis) ... YOUR TURN!"
   ]
  },
  {
   "cell_type": "code",
   "execution_count": null,
   "id": "17343b7f",
   "metadata": {},
   "outputs": [],
   "source": []
  }
 ],
 "metadata": {
  "kernelspec": {
   "display_name": "Python 3 (ipykernel)",
   "language": "python",
   "name": "python3"
  },
  "language_info": {
   "codemirror_mode": {
    "name": "ipython",
    "version": 3
   },
   "file_extension": ".py",
   "mimetype": "text/x-python",
   "name": "python",
   "nbconvert_exporter": "python",
   "pygments_lexer": "ipython3",
   "version": "3.11.5"
  }
 },
 "nbformat": 4,
 "nbformat_minor": 5
}
