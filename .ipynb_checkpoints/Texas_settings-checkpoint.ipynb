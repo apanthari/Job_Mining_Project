{
 "cells": [
  {
   "cell_type": "code",
   "execution_count": 1,
   "id": "e265d204-7d48-4ecf-a846-bd732b4ca6da",
   "metadata": {},
   "outputs": [
    {
     "name": "stdout",
     "output_type": "stream",
     "text": [
      "Collecting git+https://github.com/PaulMcInnis/JobFunnel.git\n",
      "  Cloning https://github.com/PaulMcInnis/JobFunnel.git to c:\\users\\panth\\appdata\\local\\temp\\pip-req-build-g0lz14k8\n",
      "  Resolved https://github.com/PaulMcInnis/JobFunnel.git to commit 493af1bbdc8b846b630a1b0e2cedb2eb02ab7f4d\n",
      "  Installing build dependencies: started\n",
      "  Installing build dependencies: finished with status 'done'\n",
      "  Getting requirements to build wheel: started\n",
      "  Getting requirements to build wheel: finished with status 'done'\n",
      "  Preparing metadata (pyproject.toml): started\n",
      "  Preparing metadata (pyproject.toml): finished with status 'done'\n",
      "Requirement already satisfied: beautifulsoup4>=4.6.3 in c:\\users\\panth\\anaconda3\\lib\\site-packages (from JobFunnel==4.0.0) (4.12.2)\n",
      "Requirement already satisfied: lxml>=4.2.4 in c:\\users\\panth\\anaconda3\\lib\\site-packages (from JobFunnel==4.0.0) (4.9.3)\n",
      "Requirement already satisfied: requests>=2.19.1 in c:\\users\\panth\\anaconda3\\lib\\site-packages (from JobFunnel==4.0.0) (2.31.0)\n",
      "Requirement already satisfied: python-dateutil>=2.8.0 in c:\\users\\panth\\anaconda3\\lib\\site-packages (from JobFunnel==4.0.0) (2.8.2)\n",
      "Requirement already satisfied: PyYAML>=5.1 in c:\\users\\panth\\anaconda3\\lib\\site-packages (from JobFunnel==4.0.0) (6.0.1)\n",
      "Requirement already satisfied: scikit-learn>=0.21.2 in c:\\users\\panth\\anaconda3\\lib\\site-packages (from JobFunnel==4.0.0) (1.2.2)\n",
      "Requirement already satisfied: nltk>=3.4.1 in c:\\users\\panth\\anaconda3\\lib\\site-packages (from JobFunnel==4.0.0) (3.8.1)\n",
      "Requirement already satisfied: scipy>=1.4.1 in c:\\users\\panth\\anaconda3\\lib\\site-packages (from JobFunnel==4.0.0) (1.11.4)\n",
      "Requirement already satisfied: selenium>=3.141.0 in c:\\users\\panth\\anaconda3\\lib\\site-packages (from JobFunnel==4.0.0) (4.25.0)\n",
      "Requirement already satisfied: webdriver-manager>=2.4.0 in c:\\users\\panth\\anaconda3\\lib\\site-packages (from JobFunnel==4.0.0) (4.0.2)\n",
      "Requirement already satisfied: Cerberus>=1.3.2 in c:\\users\\panth\\anaconda3\\lib\\site-packages (from JobFunnel==4.0.0) (1.3.5)\n",
      "Requirement already satisfied: tqdm>=4.47.0 in c:\\users\\panth\\anaconda3\\lib\\site-packages (from JobFunnel==4.0.0) (4.65.0)\n",
      "Requirement already satisfied: soupsieve>1.2 in c:\\users\\panth\\anaconda3\\lib\\site-packages (from beautifulsoup4>=4.6.3->JobFunnel==4.0.0) (2.5)\n",
      "Requirement already satisfied: click in c:\\users\\panth\\anaconda3\\lib\\site-packages (from nltk>=3.4.1->JobFunnel==4.0.0) (8.1.7)\n",
      "Requirement already satisfied: joblib in c:\\users\\panth\\anaconda3\\lib\\site-packages (from nltk>=3.4.1->JobFunnel==4.0.0) (1.2.0)\n",
      "Requirement already satisfied: regex>=2021.8.3 in c:\\users\\panth\\anaconda3\\lib\\site-packages (from nltk>=3.4.1->JobFunnel==4.0.0) (2023.10.3)\n",
      "Requirement already satisfied: six>=1.5 in c:\\users\\panth\\anaconda3\\lib\\site-packages (from python-dateutil>=2.8.0->JobFunnel==4.0.0) (1.16.0)\n",
      "Requirement already satisfied: charset-normalizer<4,>=2 in c:\\users\\panth\\anaconda3\\lib\\site-packages (from requests>=2.19.1->JobFunnel==4.0.0) (2.0.4)\n",
      "Requirement already satisfied: idna<4,>=2.5 in c:\\users\\panth\\anaconda3\\lib\\site-packages (from requests>=2.19.1->JobFunnel==4.0.0) (3.4)\n",
      "Requirement already satisfied: urllib3<3,>=1.21.1 in c:\\users\\panth\\anaconda3\\lib\\site-packages (from requests>=2.19.1->JobFunnel==4.0.0) (2.0.7)\n",
      "Requirement already satisfied: certifi>=2017.4.17 in c:\\users\\panth\\anaconda3\\lib\\site-packages (from requests>=2.19.1->JobFunnel==4.0.0) (2024.6.2)\n",
      "Requirement already satisfied: numpy>=1.17.3 in c:\\users\\panth\\anaconda3\\lib\\site-packages (from scikit-learn>=0.21.2->JobFunnel==4.0.0) (1.26.3)\n",
      "Requirement already satisfied: threadpoolctl>=2.0.0 in c:\\users\\panth\\anaconda3\\lib\\site-packages (from scikit-learn>=0.21.2->JobFunnel==4.0.0) (2.2.0)\n",
      "Requirement already satisfied: trio~=0.17 in c:\\users\\panth\\anaconda3\\lib\\site-packages (from selenium>=3.141.0->JobFunnel==4.0.0) (0.27.0)\n",
      "Requirement already satisfied: trio-websocket~=0.9 in c:\\users\\panth\\anaconda3\\lib\\site-packages (from selenium>=3.141.0->JobFunnel==4.0.0) (0.11.1)\n",
      "Requirement already satisfied: typing_extensions~=4.9 in c:\\users\\panth\\anaconda3\\lib\\site-packages (from selenium>=3.141.0->JobFunnel==4.0.0) (4.9.0)\n",
      "Requirement already satisfied: websocket-client~=1.8 in c:\\users\\panth\\anaconda3\\lib\\site-packages (from selenium>=3.141.0->JobFunnel==4.0.0) (1.8.0)\n",
      "Requirement already satisfied: colorama in c:\\users\\panth\\anaconda3\\lib\\site-packages (from tqdm>=4.47.0->JobFunnel==4.0.0) (0.4.6)\n",
      "Requirement already satisfied: python-dotenv in c:\\users\\panth\\anaconda3\\lib\\site-packages (from webdriver-manager>=2.4.0->JobFunnel==4.0.0) (0.21.0)\n",
      "Requirement already satisfied: packaging in c:\\users\\panth\\anaconda3\\lib\\site-packages (from webdriver-manager>=2.4.0->JobFunnel==4.0.0) (23.1)\n",
      "Requirement already satisfied: attrs>=23.2.0 in c:\\users\\panth\\anaconda3\\lib\\site-packages (from trio~=0.17->selenium>=3.141.0->JobFunnel==4.0.0) (24.2.0)\n",
      "Requirement already satisfied: sortedcontainers in c:\\users\\panth\\anaconda3\\lib\\site-packages (from trio~=0.17->selenium>=3.141.0->JobFunnel==4.0.0) (2.4.0)\n",
      "Requirement already satisfied: outcome in c:\\users\\panth\\anaconda3\\lib\\site-packages (from trio~=0.17->selenium>=3.141.0->JobFunnel==4.0.0) (1.3.0.post0)\n",
      "Requirement already satisfied: sniffio>=1.3.0 in c:\\users\\panth\\anaconda3\\lib\\site-packages (from trio~=0.17->selenium>=3.141.0->JobFunnel==4.0.0) (1.3.0)\n",
      "Requirement already satisfied: cffi>=1.14 in c:\\users\\panth\\anaconda3\\lib\\site-packages (from trio~=0.17->selenium>=3.141.0->JobFunnel==4.0.0) (1.16.0)\n",
      "Requirement already satisfied: wsproto>=0.14 in c:\\users\\panth\\anaconda3\\lib\\site-packages (from trio-websocket~=0.9->selenium>=3.141.0->JobFunnel==4.0.0) (1.2.0)\n",
      "Requirement already satisfied: pysocks!=1.5.7,<2.0,>=1.5.6 in c:\\users\\panth\\anaconda3\\lib\\site-packages (from urllib3[socks]<3,>=1.26->selenium>=3.141.0->JobFunnel==4.0.0) (1.7.1)\n",
      "Requirement already satisfied: pycparser in c:\\users\\panth\\anaconda3\\lib\\site-packages (from cffi>=1.14->trio~=0.17->selenium>=3.141.0->JobFunnel==4.0.0) (2.21)\n",
      "Requirement already satisfied: h11<1,>=0.9.0 in c:\\users\\panth\\anaconda3\\lib\\site-packages (from wsproto>=0.14->trio-websocket~=0.9->selenium>=3.141.0->JobFunnel==4.0.0) (0.14.0)\n",
      "Note: you may need to restart the kernel to use updated packages.\n"
     ]
    },
    {
     "name": "stderr",
     "output_type": "stream",
     "text": [
      "  Running command git clone --filter=blob:none --quiet https://github.com/PaulMcInnis/JobFunnel.git 'C:\\Users\\panth\\AppData\\Local\\Temp\\pip-req-build-g0lz14k8'\n"
     ]
    }
   ],
   "source": [
    "pip install git+https://github.com/PaulMcInnis/JobFunnel.git"
   ]
  },
  {
   "cell_type": "code",
   "execution_count": 2,
   "id": "ca1d63d9-db89-47ac-a146-5cd1c9803fc6",
   "metadata": {},
   "outputs": [
    {
     "name": "stdout",
     "output_type": "stream",
     "text": [
      "Requirement already satisfied: wget in c:\\users\\panth\\anaconda3\\lib\\site-packages (3.2)\n"
     ]
    }
   ],
   "source": [
    "!pip install wget\n",
    "import wget"
   ]
  },
  {
   "cell_type": "code",
   "execution_count": 3,
   "id": "ccd9bd1f-2dfc-4774-bfd6-e06a7b40dabe",
   "metadata": {},
   "outputs": [
    {
     "name": "stdout",
     "output_type": "stream",
     "text": [
      "Requirement already satisfied: pyyaml in c:\\users\\panth\\anaconda3\\lib\\site-packages (6.0.1)\n"
     ]
    }
   ],
   "source": [
    "!pip install pyyaml\n",
    "import yaml"
   ]
  },
  {
   "cell_type": "code",
   "execution_count": 1,
   "id": "2e513a7d-3164-4c43-8baa-ed13eaf16c15",
   "metadata": {},
   "outputs": [
    {
     "name": "stderr",
     "output_type": "stream",
     "text": [
      "--2024-11-01 14:27:33--  https://raw.githubusercontent.com/PaulMcInnis/JobFunnel/refs/heads/master/demo/settings_USA.yaml\n",
      "Resolving raw.githubusercontent.com (raw.githubusercontent.com)... 185.199.109.133, 185.199.108.133, 185.199.111.133, ...\n",
      "Connecting to raw.githubusercontent.com (raw.githubusercontent.com)|185.199.109.133|:443... connected.\n",
      "HTTP request sent, awaiting response... 200 OK\n",
      "Length: 2391 (2.3K) [text/plain]\n",
      "Saving to: 'USA_Jobs.yaml'\n",
      "\n",
      "     0K ..                                                    100%  182K=0.01s\n",
      "\n",
      "2024-11-01 14:27:33 (182 KB/s) - 'USA_Jobs.yaml' saved [2391/2391]\n",
      "\n"
     ]
    }
   ],
   "source": [
    "!wget https://raw.githubusercontent.com/PaulMcInnis/JobFunnel/refs/heads/master/demo/settings_USA.yaml -O USA_Jobs.yaml"
   ]
  },
  {
   "cell_type": "code",
   "execution_count": 2,
   "id": "2990a72e-3f19-4d17-a0b8-3e67d2929ba1",
   "metadata": {},
   "outputs": [
    {
     "name": "stderr",
     "output_type": "stream",
     "text": [
      "Traceback (most recent call last):\n",
      "  File \"<frozen runpy>\", line 198, in _run_module_as_main\n",
      "  File \"<frozen runpy>\", line 88, in _run_code\n",
      "  File \"C:\\Users\\panth\\anaconda3\\Scripts\\funnel.exe\\__main__.py\", line 7, in <module>\n",
      "  File \"C:\\Users\\panth\\anaconda3\\Lib\\site-packages\\jobfunnel\\__main__.py\", line 22, in main\n",
      "    job_funnel = JobFunnel(funnel_cfg)\n",
      "                 ^^^^^^^^^^^^^^^^^^^^^\n",
      "  File \"C:\\Users\\panth\\anaconda3\\Lib\\site-packages\\jobfunnel\\backend\\jobfunnel.py\", line 62, in __init__\n",
      "    duplicate_jobs_dict = json.load(open(self.config.duplicates_list_file, \"r\"))\n",
      "                          ^^^^^^^^^^^^^^^^^^^^^^^^^^^^^^^^^^^^^^^^^^^^^^^^^^^^^^\n",
      "  File \"C:\\Users\\panth\\anaconda3\\Lib\\json\\__init__.py\", line 293, in load\n",
      "    return loads(fp.read(),\n",
      "                 ^^^^^^^^^\n",
      "  File \"C:\\Users\\panth\\anaconda3\\Lib\\encodings\\cp1252.py\", line 23, in decode\n",
      "    return codecs.charmap_decode(input,self.errors,decoding_table)[0]\n",
      "           ^^^^^^^^^^^^^^^^^^^^^^^^^^^^^^^^^^^^^^^^^^^^^^^^^^^^^^^\n",
      "UnicodeDecodeError: 'charmap' codec can't decode byte 0x9d in position 13015: character maps to <undefined>\n"
     ]
    }
   ],
   "source": [
    "!funnel load -s USA_Jobs.yaml"
   ]
  },
  {
   "cell_type": "code",
   "execution_count": 24,
   "id": "1b0e4a76-bc10-41c3-b534-3416bf6613c4",
   "metadata": {},
   "outputs": [
    {
     "name": "stderr",
     "output_type": "stream",
     "text": [
      "--2024-11-01 14:20:27--  https://github.com/apanthari/Job_Mining_Project/blob/main/Data_Query.yaml\n",
      "Resolving github.com (github.com)... 140.82.114.4\n",
      "Connecting to github.com (github.com)|140.82.114.4|:443... connected.\n",
      "HTTP request sent, awaiting response... 200 OK\n",
      "Length: unspecified [text/html]\n",
      "Saving to: 'USA_Jobs2.yaml'\n",
      "\n",
      "     0K .......... .......... .......... .......... ..........  340K\n",
      "    50K .......... .......... .......... .......... ..........  835K\n",
      "   100K .......... .......... .......... .......... .......... 2.49M\n",
      "   150K .......... ........                                    58.1M=0.2s\n",
      "\n",
      "2024-11-01 14:20:27 (743 KB/s) - 'USA_Jobs2.yaml' saved [172774]\n",
      "\n"
     ]
    }
   ],
   "source": [
    "!wget https://github.com/apanthari/Job_Mining_Project/blob/main/Data_Query.yaml -O USA_Jobs2.yaml"
   ]
  },
  {
   "cell_type": "code",
   "execution_count": 18,
   "id": "6944ce30-fd05-42c9-8949-56078e83e2c6",
   "metadata": {},
   "outputs": [
    {
     "name": "stderr",
     "output_type": "stream",
     "text": [
      "Traceback (most recent call last):\n",
      "  File \"<frozen runpy>\", line 198, in _run_module_as_main\n",
      "  File \"<frozen runpy>\", line 88, in _run_code\n",
      "  File \"C:\\Users\\panth\\anaconda3\\Scripts\\funnel.exe\\__main__.py\", line 7, in <module>\n",
      "  File \"C:\\Users\\panth\\anaconda3\\Lib\\site-packages\\jobfunnel\\__main__.py\", line 15, in main\n",
      "    cfg_dict = build_config_dict(args)\n",
      "               ^^^^^^^^^^^^^^^^^^^^^^^\n",
      "  File \"C:\\Users\\panth\\anaconda3\\Lib\\site-packages\\jobfunnel\\config\\cli.py\", line 322, in build_config_dict\n",
      "    config = yaml.load(\n",
      "             ^^^^^^^^^^\n",
      "  File \"C:\\Users\\panth\\anaconda3\\Lib\\site-packages\\yaml\\__init__.py\", line 81, in load\n",
      "    return loader.get_single_data()\n",
      "           ^^^^^^^^^^^^^^^^^^^^^^^^\n",
      "  File \"C:\\Users\\panth\\anaconda3\\Lib\\site-packages\\yaml\\constructor.py\", line 49, in get_single_data\n",
      "    node = self.get_single_node()\n",
      "           ^^^^^^^^^^^^^^^^^^^^^^\n",
      "  File \"C:\\Users\\panth\\anaconda3\\Lib\\site-packages\\yaml\\composer.py\", line 36, in get_single_node\n",
      "    document = self.compose_document()\n",
      "               ^^^^^^^^^^^^^^^^^^^^^^^\n",
      "  File \"C:\\Users\\panth\\anaconda3\\Lib\\site-packages\\yaml\\composer.py\", line 58, in compose_document\n",
      "    self.get_event()\n",
      "  File \"C:\\Users\\panth\\anaconda3\\Lib\\site-packages\\yaml\\parser.py\", line 118, in get_event\n",
      "    self.current_event = self.state()\n",
      "                         ^^^^^^^^^^^^\n",
      "  File \"C:\\Users\\panth\\anaconda3\\Lib\\site-packages\\yaml\\parser.py\", line 193, in parse_document_end\n",
      "    token = self.peek_token()\n",
      "            ^^^^^^^^^^^^^^^^^\n",
      "  File \"C:\\Users\\panth\\anaconda3\\Lib\\site-packages\\yaml\\scanner.py\", line 129, in peek_token\n",
      "    self.fetch_more_tokens()\n",
      "  File \"C:\\Users\\panth\\anaconda3\\Lib\\site-packages\\yaml\\scanner.py\", line 223, in fetch_more_tokens\n",
      "    return self.fetch_value()\n",
      "           ^^^^^^^^^^^^^^^^^^\n",
      "  File \"C:\\Users\\panth\\anaconda3\\Lib\\site-packages\\yaml\\scanner.py\", line 577, in fetch_value\n",
      "    raise ScannerError(None, None,\n",
      "yaml.scanner.ScannerError: mapping values are not allowed here\n",
      "  in \"USA_Jobs2.yaml\", line 215, column 75\n"
     ]
    }
   ],
   "source": [
    "!funnel load -s USA_Jobs2.yaml"
   ]
  },
  {
   "cell_type": "code",
   "execution_count": null,
   "id": "8fc633e1-bd73-45fd-8b4d-abe0ae24ae8f",
   "metadata": {},
   "outputs": [],
   "source": []
  }
 ],
 "metadata": {
  "kernelspec": {
   "display_name": "Python 3 (ipykernel)",
   "language": "python",
   "name": "python3"
  },
  "language_info": {
   "codemirror_mode": {
    "name": "ipython",
    "version": 3
   },
   "file_extension": ".py",
   "mimetype": "text/x-python",
   "name": "python",
   "nbconvert_exporter": "python",
   "pygments_lexer": "ipython3",
   "version": "3.11.5"
  }
 },
 "nbformat": 4,
 "nbformat_minor": 5
}
