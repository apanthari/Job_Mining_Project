{
 "cells": [
  {
   "cell_type": "code",
   "execution_count": 1,
   "id": "0cce0efa-cff8-41ba-a8fd-07b7cc2044e9",
   "metadata": {},
   "outputs": [
    {
     "name": "stdout",
     "output_type": "stream",
     "text": [
      "Collecting git+https://github.com/PaulMcInnis/JobFunnel.gitNote: you may need to restart the kernel to use updated packages.\n",
      "\n",
      "  Cloning https://github.com/PaulMcInnis/JobFunnel.git to c:\\users\\panth\\appdata\\local\\temp\\pip-req-build-ohllensk\n",
      "  Resolved https://github.com/PaulMcInnis/JobFunnel.git to commit 493af1bbdc8b846b630a1b0e2cedb2eb02ab7f4d\n",
      "  Installing build dependencies: started\n",
      "  Installing build dependencies: finished with status 'done'\n",
      "  Getting requirements to build wheel: started\n",
      "  Getting requirements to build wheel: finished with status 'done'\n",
      "  Preparing metadata (pyproject.toml): started\n",
      "  Preparing metadata (pyproject.toml): finished with status 'done'\n",
      "Requirement already satisfied: beautifulsoup4>=4.6.3 in c:\\users\\panth\\anaconda3\\lib\\site-packages (from JobFunnel==4.0.0) (4.12.2)\n",
      "Requirement already satisfied: lxml>=4.2.4 in c:\\users\\panth\\anaconda3\\lib\\site-packages (from JobFunnel==4.0.0) (4.9.3)\n",
      "Requirement already satisfied: requests>=2.19.1 in c:\\users\\panth\\anaconda3\\lib\\site-packages (from JobFunnel==4.0.0) (2.31.0)\n",
      "Requirement already satisfied: python-dateutil>=2.8.0 in c:\\users\\panth\\anaconda3\\lib\\site-packages (from JobFunnel==4.0.0) (2.8.2)\n",
      "Requirement already satisfied: PyYAML>=5.1 in c:\\users\\panth\\anaconda3\\lib\\site-packages (from JobFunnel==4.0.0) (6.0.1)\n",
      "Requirement already satisfied: scikit-learn>=0.21.2 in c:\\users\\panth\\anaconda3\\lib\\site-packages (from JobFunnel==4.0.0) (1.2.2)\n",
      "Requirement already satisfied: nltk>=3.4.1 in c:\\users\\panth\\anaconda3\\lib\\site-packages (from JobFunnel==4.0.0) (3.8.1)\n",
      "Requirement already satisfied: scipy>=1.4.1 in c:\\users\\panth\\anaconda3\\lib\\site-packages (from JobFunnel==4.0.0) (1.11.4)\n",
      "Requirement already satisfied: selenium>=3.141.0 in c:\\users\\panth\\anaconda3\\lib\\site-packages (from JobFunnel==4.0.0) (4.25.0)\n",
      "Requirement already satisfied: webdriver-manager>=2.4.0 in c:\\users\\panth\\anaconda3\\lib\\site-packages (from JobFunnel==4.0.0) (4.0.2)\n",
      "Requirement already satisfied: Cerberus>=1.3.2 in c:\\users\\panth\\anaconda3\\lib\\site-packages (from JobFunnel==4.0.0) (1.3.5)\n",
      "Requirement already satisfied: tqdm>=4.47.0 in c:\\users\\panth\\anaconda3\\lib\\site-packages (from JobFunnel==4.0.0) (4.65.0)\n",
      "Requirement already satisfied: soupsieve>1.2 in c:\\users\\panth\\anaconda3\\lib\\site-packages (from beautifulsoup4>=4.6.3->JobFunnel==4.0.0) (2.5)\n",
      "Requirement already satisfied: click in c:\\users\\panth\\anaconda3\\lib\\site-packages (from nltk>=3.4.1->JobFunnel==4.0.0) (8.1.7)\n",
      "Requirement already satisfied: joblib in c:\\users\\panth\\anaconda3\\lib\\site-packages (from nltk>=3.4.1->JobFunnel==4.0.0) (1.2.0)\n",
      "Requirement already satisfied: regex>=2021.8.3 in c:\\users\\panth\\anaconda3\\lib\\site-packages (from nltk>=3.4.1->JobFunnel==4.0.0) (2023.10.3)\n",
      "Requirement already satisfied: six>=1.5 in c:\\users\\panth\\anaconda3\\lib\\site-packages (from python-dateutil>=2.8.0->JobFunnel==4.0.0) (1.16.0)\n",
      "Requirement already satisfied: charset-normalizer<4,>=2 in c:\\users\\panth\\anaconda3\\lib\\site-packages (from requests>=2.19.1->JobFunnel==4.0.0) (2.0.4)\n",
      "Requirement already satisfied: idna<4,>=2.5 in c:\\users\\panth\\anaconda3\\lib\\site-packages (from requests>=2.19.1->JobFunnel==4.0.0) (3.4)\n",
      "Requirement already satisfied: urllib3<3,>=1.21.1 in c:\\users\\panth\\anaconda3\\lib\\site-packages (from requests>=2.19.1->JobFunnel==4.0.0) (2.0.7)\n",
      "Requirement already satisfied: certifi>=2017.4.17 in c:\\users\\panth\\anaconda3\\lib\\site-packages (from requests>=2.19.1->JobFunnel==4.0.0) (2024.6.2)\n",
      "Requirement already satisfied: numpy>=1.17.3 in c:\\users\\panth\\anaconda3\\lib\\site-packages (from scikit-learn>=0.21.2->JobFunnel==4.0.0) (1.26.3)\n",
      "Requirement already satisfied: threadpoolctl>=2.0.0 in c:\\users\\panth\\anaconda3\\lib\\site-packages (from scikit-learn>=0.21.2->JobFunnel==4.0.0) (2.2.0)\n",
      "Requirement already satisfied: trio~=0.17 in c:\\users\\panth\\anaconda3\\lib\\site-packages (from selenium>=3.141.0->JobFunnel==4.0.0) (0.27.0)\n",
      "Requirement already satisfied: trio-websocket~=0.9 in c:\\users\\panth\\anaconda3\\lib\\site-packages (from selenium>=3.141.0->JobFunnel==4.0.0) (0.11.1)\n",
      "Requirement already satisfied: typing_extensions~=4.9 in c:\\users\\panth\\anaconda3\\lib\\site-packages (from selenium>=3.141.0->JobFunnel==4.0.0) (4.9.0)\n",
      "Requirement already satisfied: websocket-client~=1.8 in c:\\users\\panth\\anaconda3\\lib\\site-packages (from selenium>=3.141.0->JobFunnel==4.0.0) (1.8.0)\n",
      "Requirement already satisfied: colorama in c:\\users\\panth\\anaconda3\\lib\\site-packages (from tqdm>=4.47.0->JobFunnel==4.0.0) (0.4.6)\n",
      "Requirement already satisfied: python-dotenv in c:\\users\\panth\\anaconda3\\lib\\site-packages (from webdriver-manager>=2.4.0->JobFunnel==4.0.0) (0.21.0)\n",
      "Requirement already satisfied: packaging in c:\\users\\panth\\anaconda3\\lib\\site-packages (from webdriver-manager>=2.4.0->JobFunnel==4.0.0) (23.1)\n",
      "Requirement already satisfied: attrs>=23.2.0 in c:\\users\\panth\\anaconda3\\lib\\site-packages (from trio~=0.17->selenium>=3.141.0->JobFunnel==4.0.0) (24.2.0)\n",
      "Requirement already satisfied: sortedcontainers in c:\\users\\panth\\anaconda3\\lib\\site-packages (from trio~=0.17->selenium>=3.141.0->JobFunnel==4.0.0) (2.4.0)\n",
      "Requirement already satisfied: outcome in c:\\users\\panth\\anaconda3\\lib\\site-packages (from trio~=0.17->selenium>=3.141.0->JobFunnel==4.0.0) (1.3.0.post0)\n",
      "Requirement already satisfied: sniffio>=1.3.0 in c:\\users\\panth\\anaconda3\\lib\\site-packages (from trio~=0.17->selenium>=3.141.0->JobFunnel==4.0.0) (1.3.0)\n",
      "Requirement already satisfied: cffi>=1.14 in c:\\users\\panth\\anaconda3\\lib\\site-packages (from trio~=0.17->selenium>=3.141.0->JobFunnel==4.0.0) (1.16.0)\n",
      "Requirement already satisfied: wsproto>=0.14 in c:\\users\\panth\\anaconda3\\lib\\site-packages (from trio-websocket~=0.9->selenium>=3.141.0->JobFunnel==4.0.0) (1.2.0)\n",
      "Requirement already satisfied: pysocks!=1.5.7,<2.0,>=1.5.6 in c:\\users\\panth\\anaconda3\\lib\\site-packages (from urllib3[socks]<3,>=1.26->selenium>=3.141.0->JobFunnel==4.0.0) (1.7.1)\n",
      "Requirement already satisfied: pycparser in c:\\users\\panth\\anaconda3\\lib\\site-packages (from cffi>=1.14->trio~=0.17->selenium>=3.141.0->JobFunnel==4.0.0) (2.21)\n",
      "Requirement already satisfied: h11<1,>=0.9.0 in c:\\users\\panth\\anaconda3\\lib\\site-packages (from wsproto>=0.14->trio-websocket~=0.9->selenium>=3.141.0->JobFunnel==4.0.0) (0.14.0)\n"
     ]
    },
    {
     "name": "stderr",
     "output_type": "stream",
     "text": [
      "  Running command git clone --filter=blob:none --quiet https://github.com/PaulMcInnis/JobFunnel.git 'C:\\Users\\panth\\AppData\\Local\\Temp\\pip-req-build-ohllensk'\n"
     ]
    }
   ],
   "source": [
    "pip install git+https://github.com/PaulMcInnis/JobFunnel.git"
   ]
  },
  {
   "cell_type": "code",
   "execution_count": 1,
   "id": "ec823da0-b76b-433f-862c-7ce412d08d92",
   "metadata": {},
   "outputs": [],
   "source": [
    "#!pip install wget\n",
    "import wget"
   ]
  },
  {
   "cell_type": "code",
   "execution_count": 2,
   "id": "f9a24d79-64bf-4479-8822-36f79013964d",
   "metadata": {},
   "outputs": [],
   "source": [
    "#!pip install pyyaml\n",
    "import yaml"
   ]
  },
  {
   "cell_type": "code",
   "execution_count": 3,
   "id": "ba31d150-22fc-4e75-983c-ee57a7282978",
   "metadata": {},
   "outputs": [
    {
     "name": "stderr",
     "output_type": "stream",
     "text": [
      "--2024-11-10 16:10:11--  https://raw.githubusercontent.com/apanthari/Job_Mining_Project/refs/heads/main/Query_Files/NC_query.yaml\n",
      "Resolving raw.githubusercontent.com (raw.githubusercontent.com)... 185.199.111.133, 185.199.110.133, 185.199.109.133, ...\n",
      "Connecting to raw.githubusercontent.com (raw.githubusercontent.com)|185.199.111.133|:443... connected.\n",
      "HTTP request sent, awaiting response... 200 OK\n",
      "Length: 2321 (2.3K) [text/plain]\n",
      "Saving to: 'NC_Jobs.yaml'\n",
      "\n",
      "     0K ..                                                    100%  295K=0.008s\n",
      "\n",
      "2024-11-10 16:10:11 (295 KB/s) - 'NC_Jobs.yaml' saved [2321/2321]\n",
      "\n"
     ]
    }
   ],
   "source": [
    "!wget https://raw.githubusercontent.com/apanthari/Job_Mining_Project/refs/heads/main/Query_Files/NC_query.yaml -O NC_Jobs.yaml"
   ]
  },
  {
   "cell_type": "code",
   "execution_count": 4,
   "id": "4b171ad7-ee9e-4775-8966-faae591c66df",
   "metadata": {},
   "outputs": [
    {
     "name": "stdout",
     "output_type": "stream",
     "text": [
      "[2024-11-10 16:10:16,260] [INFO] JobFunnel: Scraping local providers with: ['IndeedScraperUSAEng', 'MonsterScraperUSAEng']"
     ]
    },
    {
     "name": "stderr",
     "output_type": "stream",
     "text": [
      "\n",
      "  0%|          | 0/250 [00:00<?, ?it/s]\n",
      "100%|##########| 250/250 [00:00<00:00, 53167.83it/s]\n"
     ]
    },
    {
     "name": "stdout",
     "output_type": "stream",
     "text": [
      "\n",
      "[2024-11-10 16:10:17,643] [INFO] IndeedScraperUSAEng: Found 10 pages of search results for query=Data\n",
      "[2024-11-10 16:10:21,921] [INFO] IndeedScraperUSAEng: Scraped 250 job listings from search results pages\n",
      "[2024-11-10 16:10:22,406] [ERROR] IndeedScraperUSAEng: Job HR Shared Services Data Analyst - Raleigh, NC and HR Shared Services Data Analyst - Raleigh, NC share duplicate key_id: IndeedScraperUSAEng_c26fc64a35dd3422\n",
      "[2024-11-10 16:10:22,450] [INFO] MonsterScraperUSAEng: No get() or set() will be done for Job attrs: ['REMOTENESS']\n",
      "[2024-11-10 16:10:24,322] [ERROR] JobFunnel: Failed to scrape jobs for MonsterScraperUSAEng: Unable to extract jobs from initial search result page:\n",
      "\t'NoneType' object has no attribute 'text'\n",
      "[2024-11-10 16:10:24,322] [INFO] JobFunnel: Completed all scraping, found 249 new jobs.\n",
      "[2024-11-10 16:10:24,367] [INFO] JobFunnel: Done. View your current jobs in Project_Data/NC_Jobs.csv\n"
     ]
    }
   ],
   "source": [
    "!funnel load -s NC_Jobs.yaml"
   ]
  },
  {
   "cell_type": "code",
   "execution_count": null,
   "id": "5f5bdfbb-edfa-4f36-9440-7930000dd196",
   "metadata": {},
   "outputs": [],
   "source": []
  },
  {
   "cell_type": "code",
   "execution_count": null,
   "id": "4abc81cb-d884-4df5-b72d-78ecbfe46ce3",
   "metadata": {},
   "outputs": [],
   "source": []
  }
 ],
 "metadata": {
  "kernelspec": {
   "display_name": "Python 3 (ipykernel)",
   "language": "python",
   "name": "python3"
  },
  "language_info": {
   "codemirror_mode": {
    "name": "ipython",
    "version": 3
   },
   "file_extension": ".py",
   "mimetype": "text/x-python",
   "name": "python",
   "nbconvert_exporter": "python",
   "pygments_lexer": "ipython3",
   "version": "3.11.5"
  }
 },
 "nbformat": 4,
 "nbformat_minor": 5
}
